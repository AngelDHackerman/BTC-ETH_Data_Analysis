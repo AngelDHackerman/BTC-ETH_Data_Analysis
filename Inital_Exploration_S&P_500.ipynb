{
 "cells": [
  {
   "cell_type": "markdown",
   "metadata": {},
   "source": [
    "Initial Exploration S&P 500"
   ]
  },
  {
   "cell_type": "code",
   "execution_count": 1,
   "metadata": {},
   "outputs": [],
   "source": [
    "import pandas as pd\n",
    "SP_500 = pd.read_csv('./Data_files/sap500.csv', encoding='cp1252') # Loading row data\n"
   ]
  },
  {
   "cell_type": "code",
   "execution_count": 2,
   "metadata": {},
   "outputs": [
    {
     "data": {
      "text/html": [
       "<div>\n",
       "<style scoped>\n",
       "    .dataframe tbody tr th:only-of-type {\n",
       "        vertical-align: middle;\n",
       "    }\n",
       "\n",
       "    .dataframe tbody tr th {\n",
       "        vertical-align: top;\n",
       "    }\n",
       "\n",
       "    .dataframe thead th {\n",
       "        text-align: right;\n",
       "    }\n",
       "</style>\n",
       "<table border=\"1\" class=\"dataframe\">\n",
       "  <thead>\n",
       "    <tr style=\"text-align: right;\">\n",
       "      <th></th>\n",
       "      <th>Date</th>\n",
       "      <th>Open</th>\n",
       "      <th>High</th>\n",
       "      <th>Low</th>\n",
       "      <th>Close</th>\n",
       "      <th>Volume</th>\n",
       "    </tr>\n",
       "  </thead>\n",
       "  <tbody>\n",
       "    <tr>\n",
       "      <th>0</th>\n",
       "      <td>1927-12-30</td>\n",
       "      <td>17.660000</td>\n",
       "      <td>17.660000</td>\n",
       "      <td>17.660000</td>\n",
       "      <td>17.660000</td>\n",
       "      <td>0</td>\n",
       "    </tr>\n",
       "    <tr>\n",
       "      <th>1</th>\n",
       "      <td>1928-01-03</td>\n",
       "      <td>17.760000</td>\n",
       "      <td>17.760000</td>\n",
       "      <td>17.760000</td>\n",
       "      <td>17.760000</td>\n",
       "      <td>0</td>\n",
       "    </tr>\n",
       "    <tr>\n",
       "      <th>2</th>\n",
       "      <td>1928-01-04</td>\n",
       "      <td>17.719999</td>\n",
       "      <td>17.719999</td>\n",
       "      <td>17.719999</td>\n",
       "      <td>17.719999</td>\n",
       "      <td>0</td>\n",
       "    </tr>\n",
       "    <tr>\n",
       "      <th>3</th>\n",
       "      <td>1928-01-05</td>\n",
       "      <td>17.549999</td>\n",
       "      <td>17.549999</td>\n",
       "      <td>17.549999</td>\n",
       "      <td>17.549999</td>\n",
       "      <td>0</td>\n",
       "    </tr>\n",
       "    <tr>\n",
       "      <th>4</th>\n",
       "      <td>1928-01-06</td>\n",
       "      <td>17.660000</td>\n",
       "      <td>17.660000</td>\n",
       "      <td>17.660000</td>\n",
       "      <td>17.660000</td>\n",
       "      <td>0</td>\n",
       "    </tr>\n",
       "  </tbody>\n",
       "</table>\n",
       "</div>"
      ],
      "text/plain": [
       "         Date       Open       High        Low      Close  Volume\n",
       "0  1927-12-30  17.660000  17.660000  17.660000  17.660000       0\n",
       "1  1928-01-03  17.760000  17.760000  17.760000  17.760000       0\n",
       "2  1928-01-04  17.719999  17.719999  17.719999  17.719999       0\n",
       "3  1928-01-05  17.549999  17.549999  17.549999  17.549999       0\n",
       "4  1928-01-06  17.660000  17.660000  17.660000  17.660000       0"
      ]
     },
     "execution_count": 2,
     "metadata": {},
     "output_type": "execute_result"
    }
   ],
   "source": [
    "SP_500.head()"
   ]
  },
  {
   "cell_type": "code",
   "execution_count": 3,
   "metadata": {},
   "outputs": [
    {
     "data": {
      "text/html": [
       "<div>\n",
       "<style scoped>\n",
       "    .dataframe tbody tr th:only-of-type {\n",
       "        vertical-align: middle;\n",
       "    }\n",
       "\n",
       "    .dataframe tbody tr th {\n",
       "        vertical-align: top;\n",
       "    }\n",
       "\n",
       "    .dataframe thead th {\n",
       "        text-align: right;\n",
       "    }\n",
       "</style>\n",
       "<table border=\"1\" class=\"dataframe\">\n",
       "  <thead>\n",
       "    <tr style=\"text-align: right;\">\n",
       "      <th></th>\n",
       "      <th>Date</th>\n",
       "      <th>Open</th>\n",
       "      <th>High</th>\n",
       "      <th>Low</th>\n",
       "      <th>Close</th>\n",
       "      <th>Volume</th>\n",
       "    </tr>\n",
       "  </thead>\n",
       "  <tbody>\n",
       "    <tr>\n",
       "      <th>24328</th>\n",
       "      <td>2024-11-05</td>\n",
       "      <td>5722.430176</td>\n",
       "      <td>5783.439941</td>\n",
       "      <td>5722.100098</td>\n",
       "      <td>5782.759766</td>\n",
       "      <td>3768310000</td>\n",
       "    </tr>\n",
       "    <tr>\n",
       "      <th>24329</th>\n",
       "      <td>2024-11-06</td>\n",
       "      <td>5864.890137</td>\n",
       "      <td>5936.140137</td>\n",
       "      <td>5864.890137</td>\n",
       "      <td>5929.040039</td>\n",
       "      <td>6329530000</td>\n",
       "    </tr>\n",
       "    <tr>\n",
       "      <th>24330</th>\n",
       "      <td>2024-11-07</td>\n",
       "      <td>5947.209961</td>\n",
       "      <td>5983.839844</td>\n",
       "      <td>5947.209961</td>\n",
       "      <td>5973.100098</td>\n",
       "      <td>4925740000</td>\n",
       "    </tr>\n",
       "    <tr>\n",
       "      <th>24331</th>\n",
       "      <td>2024-11-08</td>\n",
       "      <td>5976.759766</td>\n",
       "      <td>6012.450195</td>\n",
       "      <td>5976.759766</td>\n",
       "      <td>5995.540039</td>\n",
       "      <td>4666740000</td>\n",
       "    </tr>\n",
       "    <tr>\n",
       "      <th>24332</th>\n",
       "      <td>2024-11-11</td>\n",
       "      <td>6008.859863</td>\n",
       "      <td>6017.310059</td>\n",
       "      <td>5986.689941</td>\n",
       "      <td>6001.350098</td>\n",
       "      <td>4333000000</td>\n",
       "    </tr>\n",
       "  </tbody>\n",
       "</table>\n",
       "</div>"
      ],
      "text/plain": [
       "             Date         Open         High          Low        Close  \\\n",
       "24328  2024-11-05  5722.430176  5783.439941  5722.100098  5782.759766   \n",
       "24329  2024-11-06  5864.890137  5936.140137  5864.890137  5929.040039   \n",
       "24330  2024-11-07  5947.209961  5983.839844  5947.209961  5973.100098   \n",
       "24331  2024-11-08  5976.759766  6012.450195  5976.759766  5995.540039   \n",
       "24332  2024-11-11  6008.859863  6017.310059  5986.689941  6001.350098   \n",
       "\n",
       "           Volume  \n",
       "24328  3768310000  \n",
       "24329  6329530000  \n",
       "24330  4925740000  \n",
       "24331  4666740000  \n",
       "24332  4333000000  "
      ]
     },
     "execution_count": 3,
     "metadata": {},
     "output_type": "execute_result"
    }
   ],
   "source": [
    "SP_500.tail()"
   ]
  },
  {
   "cell_type": "code",
   "execution_count": 4,
   "metadata": {},
   "outputs": [
    {
     "name": "stdout",
     "output_type": "stream",
     "text": [
      "<class 'pandas.core.frame.DataFrame'>\n",
      "RangeIndex: 24333 entries, 0 to 24332\n",
      "Data columns (total 6 columns):\n",
      " #   Column  Non-Null Count  Dtype  \n",
      "---  ------  --------------  -----  \n",
      " 0   Date    24333 non-null  object \n",
      " 1   Open    24333 non-null  float64\n",
      " 2   High    24333 non-null  float64\n",
      " 3   Low     24333 non-null  float64\n",
      " 4   Close   24333 non-null  float64\n",
      " 5   Volume  24333 non-null  int64  \n",
      "dtypes: float64(4), int64(1), object(1)\n",
      "memory usage: 1.1+ MB\n"
     ]
    }
   ],
   "source": [
    "SP_500.info()"
   ]
  },
  {
   "cell_type": "code",
   "execution_count": 5,
   "metadata": {},
   "outputs": [
    {
     "data": {
      "text/html": [
       "<div>\n",
       "<style scoped>\n",
       "    .dataframe tbody tr th:only-of-type {\n",
       "        vertical-align: middle;\n",
       "    }\n",
       "\n",
       "    .dataframe tbody tr th {\n",
       "        vertical-align: top;\n",
       "    }\n",
       "\n",
       "    .dataframe thead th {\n",
       "        text-align: right;\n",
       "    }\n",
       "</style>\n",
       "<table border=\"1\" class=\"dataframe\">\n",
       "  <thead>\n",
       "    <tr style=\"text-align: right;\">\n",
       "      <th></th>\n",
       "      <th>Open</th>\n",
       "      <th>High</th>\n",
       "      <th>Low</th>\n",
       "      <th>Close</th>\n",
       "      <th>Volume</th>\n",
       "    </tr>\n",
       "  </thead>\n",
       "  <tbody>\n",
       "    <tr>\n",
       "      <th>count</th>\n",
       "      <td>24333.000000</td>\n",
       "      <td>24333.000000</td>\n",
       "      <td>24333.000000</td>\n",
       "      <td>24333.000000</td>\n",
       "      <td>2.433300e+04</td>\n",
       "    </tr>\n",
       "    <tr>\n",
       "      <th>mean</th>\n",
       "      <td>631.052387</td>\n",
       "      <td>654.591272</td>\n",
       "      <td>646.790868</td>\n",
       "      <td>650.939883</td>\n",
       "      <td>9.148267e+08</td>\n",
       "    </tr>\n",
       "    <tr>\n",
       "      <th>std</th>\n",
       "      <td>1078.427151</td>\n",
       "      <td>1073.307918</td>\n",
       "      <td>1061.371248</td>\n",
       "      <td>1067.722258</td>\n",
       "      <td>1.624004e+09</td>\n",
       "    </tr>\n",
       "    <tr>\n",
       "      <th>min</th>\n",
       "      <td>0.000000</td>\n",
       "      <td>4.400000</td>\n",
       "      <td>4.400000</td>\n",
       "      <td>4.400000</td>\n",
       "      <td>0.000000e+00</td>\n",
       "    </tr>\n",
       "    <tr>\n",
       "      <th>25%</th>\n",
       "      <td>9.720000</td>\n",
       "      <td>24.719999</td>\n",
       "      <td>24.719999</td>\n",
       "      <td>24.719999</td>\n",
       "      <td>1.540000e+06</td>\n",
       "    </tr>\n",
       "    <tr>\n",
       "      <th>50%</th>\n",
       "      <td>43.220001</td>\n",
       "      <td>103.309998</td>\n",
       "      <td>101.639999</td>\n",
       "      <td>102.430000</td>\n",
       "      <td>2.064000e+07</td>\n",
       "    </tr>\n",
       "    <tr>\n",
       "      <th>75%</th>\n",
       "      <td>1043.630005</td>\n",
       "      <td>1050.109985</td>\n",
       "      <td>1034.150024</td>\n",
       "      <td>1043.630005</td>\n",
       "      <td>1.015300e+09</td>\n",
       "    </tr>\n",
       "    <tr>\n",
       "      <th>max</th>\n",
       "      <td>6008.859863</td>\n",
       "      <td>6017.310059</td>\n",
       "      <td>5986.689941</td>\n",
       "      <td>6001.350098</td>\n",
       "      <td>1.145623e+10</td>\n",
       "    </tr>\n",
       "  </tbody>\n",
       "</table>\n",
       "</div>"
      ],
      "text/plain": [
       "               Open          High           Low         Close        Volume\n",
       "count  24333.000000  24333.000000  24333.000000  24333.000000  2.433300e+04\n",
       "mean     631.052387    654.591272    646.790868    650.939883  9.148267e+08\n",
       "std     1078.427151   1073.307918   1061.371248   1067.722258  1.624004e+09\n",
       "min        0.000000      4.400000      4.400000      4.400000  0.000000e+00\n",
       "25%        9.720000     24.719999     24.719999     24.719999  1.540000e+06\n",
       "50%       43.220001    103.309998    101.639999    102.430000  2.064000e+07\n",
       "75%     1043.630005   1050.109985   1034.150024   1043.630005  1.015300e+09\n",
       "max     6008.859863   6017.310059   5986.689941   6001.350098  1.145623e+10"
      ]
     },
     "execution_count": 5,
     "metadata": {},
     "output_type": "execute_result"
    }
   ],
   "source": [
    "SP_500.describe()"
   ]
  },
  {
   "cell_type": "code",
   "execution_count": 6,
   "metadata": {},
   "outputs": [
    {
     "data": {
      "text/plain": [
       "Date      0\n",
       "Open      0\n",
       "High      0\n",
       "Low       0\n",
       "Close     0\n",
       "Volume    0\n",
       "dtype: int64"
      ]
     },
     "execution_count": 6,
     "metadata": {},
     "output_type": "execute_result"
    }
   ],
   "source": [
    "SP_500.isnull().sum()"
   ]
  },
  {
   "cell_type": "code",
   "execution_count": 8,
   "metadata": {},
   "outputs": [
    {
     "data": {
      "text/plain": [
       "Date      0\n",
       "Open      0\n",
       "High      0\n",
       "Low       0\n",
       "Close     0\n",
       "Volume    0\n",
       "dtype: int64"
      ]
     },
     "execution_count": 8,
     "metadata": {},
     "output_type": "execute_result"
    }
   ],
   "source": [
    "SP_500.isna().sum()"
   ]
  },
  {
   "cell_type": "code",
   "execution_count": 9,
   "metadata": {},
   "outputs": [
    {
     "data": {
      "text/plain": [
       "np.int64(0)"
      ]
     },
     "execution_count": 9,
     "metadata": {},
     "output_type": "execute_result"
    }
   ],
   "source": [
    "SP_500.duplicated().sum()"
   ]
  },
  {
   "cell_type": "markdown",
   "metadata": {},
   "source": [
    "Changing Data column type to \"datetime64\""
   ]
  },
  {
   "cell_type": "code",
   "execution_count": 10,
   "metadata": {},
   "outputs": [],
   "source": [
    "SP_500['Date'] = pd.to_datetime(SP_500['Date'])"
   ]
  },
  {
   "cell_type": "code",
   "execution_count": null,
   "metadata": {},
   "outputs": [
    {
     "name": "stdout",
     "output_type": "stream",
     "text": [
      "<class 'pandas.core.frame.DataFrame'>\n",
      "RangeIndex: 24333 entries, 0 to 24332\n",
      "Data columns (total 6 columns):\n",
      " #   Column  Non-Null Count  Dtype         \n",
      "---  ------  --------------  -----         \n",
      " 0   Date    24333 non-null  datetime64[ns]\n",
      " 1   Open    24333 non-null  float64       \n",
      " 2   High    24333 non-null  float64       \n",
      " 3   Low     24333 non-null  float64       \n",
      " 4   Close   24333 non-null  float64       \n",
      " 5   Volume  24333 non-null  int64         \n",
      "dtypes: datetime64[ns](1), float64(4), int64(1)\n",
      "memory usage: 1.1 MB\n"
     ]
    }
   ],
   "source": [
    "SP_500.info() # Changed date to datetime64 type"
   ]
  },
  {
   "cell_type": "markdown",
   "metadata": {},
   "source": [
    "Trim the data from a start date September 18 2014 "
   ]
  },
  {
   "cell_type": "code",
   "execution_count": null,
   "metadata": {},
   "outputs": [],
   "source": [
    "# Filter Data from sep 18 2014 (same has bitcoin)\n",
    "start_date = \"2014-09-18\"\n",
    "SP_500_data_filtered = SP_500[SP_500['Date'] >= start_date]"
   ]
  },
  {
   "cell_type": "code",
   "execution_count": 13,
   "metadata": {},
   "outputs": [],
   "source": [
    "# Convert into a CSV\n",
    "SP_500_data_filtered.to_csv('./Data_files/sp500_data_filtered.csv', index=False)"
   ]
  },
  {
   "cell_type": "code",
   "execution_count": 16,
   "metadata": {},
   "outputs": [
    {
     "data": {
      "text/html": [
       "<div>\n",
       "<style scoped>\n",
       "    .dataframe tbody tr th:only-of-type {\n",
       "        vertical-align: middle;\n",
       "    }\n",
       "\n",
       "    .dataframe tbody tr th {\n",
       "        vertical-align: top;\n",
       "    }\n",
       "\n",
       "    .dataframe thead th {\n",
       "        text-align: right;\n",
       "    }\n",
       "</style>\n",
       "<table border=\"1\" class=\"dataframe\">\n",
       "  <thead>\n",
       "    <tr style=\"text-align: right;\">\n",
       "      <th></th>\n",
       "      <th>Date</th>\n",
       "      <th>Open</th>\n",
       "      <th>High</th>\n",
       "      <th>Low</th>\n",
       "      <th>Close</th>\n",
       "      <th>Volume</th>\n",
       "    </tr>\n",
       "  </thead>\n",
       "  <tbody>\n",
       "    <tr>\n",
       "      <th>0</th>\n",
       "      <td>2014-09-18</td>\n",
       "      <td>2003.069946</td>\n",
       "      <td>2012.339966</td>\n",
       "      <td>2003.069946</td>\n",
       "      <td>2011.359985</td>\n",
       "      <td>3235340000</td>\n",
       "    </tr>\n",
       "    <tr>\n",
       "      <th>1</th>\n",
       "      <td>2014-09-19</td>\n",
       "      <td>2012.739990</td>\n",
       "      <td>2019.260010</td>\n",
       "      <td>2006.589966</td>\n",
       "      <td>2010.400024</td>\n",
       "      <td>4880220000</td>\n",
       "    </tr>\n",
       "    <tr>\n",
       "      <th>2</th>\n",
       "      <td>2014-09-22</td>\n",
       "      <td>2009.079956</td>\n",
       "      <td>2009.079956</td>\n",
       "      <td>1991.010010</td>\n",
       "      <td>1994.290039</td>\n",
       "      <td>3349670000</td>\n",
       "    </tr>\n",
       "    <tr>\n",
       "      <th>3</th>\n",
       "      <td>2014-09-23</td>\n",
       "      <td>1992.780029</td>\n",
       "      <td>1995.410034</td>\n",
       "      <td>1982.770020</td>\n",
       "      <td>1982.770020</td>\n",
       "      <td>3279350000</td>\n",
       "    </tr>\n",
       "    <tr>\n",
       "      <th>4</th>\n",
       "      <td>2014-09-24</td>\n",
       "      <td>1983.339966</td>\n",
       "      <td>1999.790039</td>\n",
       "      <td>1978.630005</td>\n",
       "      <td>1998.300049</td>\n",
       "      <td>3313850000</td>\n",
       "    </tr>\n",
       "    <tr>\n",
       "      <th>...</th>\n",
       "      <td>...</td>\n",
       "      <td>...</td>\n",
       "      <td>...</td>\n",
       "      <td>...</td>\n",
       "      <td>...</td>\n",
       "      <td>...</td>\n",
       "    </tr>\n",
       "    <tr>\n",
       "      <th>2550</th>\n",
       "      <td>2024-11-05</td>\n",
       "      <td>5722.430176</td>\n",
       "      <td>5783.439941</td>\n",
       "      <td>5722.100098</td>\n",
       "      <td>5782.759766</td>\n",
       "      <td>3768310000</td>\n",
       "    </tr>\n",
       "    <tr>\n",
       "      <th>2551</th>\n",
       "      <td>2024-11-06</td>\n",
       "      <td>5864.890137</td>\n",
       "      <td>5936.140137</td>\n",
       "      <td>5864.890137</td>\n",
       "      <td>5929.040039</td>\n",
       "      <td>6329530000</td>\n",
       "    </tr>\n",
       "    <tr>\n",
       "      <th>2552</th>\n",
       "      <td>2024-11-07</td>\n",
       "      <td>5947.209961</td>\n",
       "      <td>5983.839844</td>\n",
       "      <td>5947.209961</td>\n",
       "      <td>5973.100098</td>\n",
       "      <td>4925740000</td>\n",
       "    </tr>\n",
       "    <tr>\n",
       "      <th>2553</th>\n",
       "      <td>2024-11-08</td>\n",
       "      <td>5976.759766</td>\n",
       "      <td>6012.450195</td>\n",
       "      <td>5976.759766</td>\n",
       "      <td>5995.540039</td>\n",
       "      <td>4666740000</td>\n",
       "    </tr>\n",
       "    <tr>\n",
       "      <th>2554</th>\n",
       "      <td>2024-11-11</td>\n",
       "      <td>6008.859863</td>\n",
       "      <td>6017.310059</td>\n",
       "      <td>5986.689941</td>\n",
       "      <td>6001.350098</td>\n",
       "      <td>4333000000</td>\n",
       "    </tr>\n",
       "  </tbody>\n",
       "</table>\n",
       "<p>2555 rows × 6 columns</p>\n",
       "</div>"
      ],
      "text/plain": [
       "            Date         Open         High          Low        Close  \\\n",
       "0     2014-09-18  2003.069946  2012.339966  2003.069946  2011.359985   \n",
       "1     2014-09-19  2012.739990  2019.260010  2006.589966  2010.400024   \n",
       "2     2014-09-22  2009.079956  2009.079956  1991.010010  1994.290039   \n",
       "3     2014-09-23  1992.780029  1995.410034  1982.770020  1982.770020   \n",
       "4     2014-09-24  1983.339966  1999.790039  1978.630005  1998.300049   \n",
       "...          ...          ...          ...          ...          ...   \n",
       "2550  2024-11-05  5722.430176  5783.439941  5722.100098  5782.759766   \n",
       "2551  2024-11-06  5864.890137  5936.140137  5864.890137  5929.040039   \n",
       "2552  2024-11-07  5947.209961  5983.839844  5947.209961  5973.100098   \n",
       "2553  2024-11-08  5976.759766  6012.450195  5976.759766  5995.540039   \n",
       "2554  2024-11-11  6008.859863  6017.310059  5986.689941  6001.350098   \n",
       "\n",
       "          Volume  \n",
       "0     3235340000  \n",
       "1     4880220000  \n",
       "2     3349670000  \n",
       "3     3279350000  \n",
       "4     3313850000  \n",
       "...          ...  \n",
       "2550  3768310000  \n",
       "2551  6329530000  \n",
       "2552  4925740000  \n",
       "2553  4666740000  \n",
       "2554  4333000000  \n",
       "\n",
       "[2555 rows x 6 columns]"
      ]
     },
     "execution_count": 16,
     "metadata": {},
     "output_type": "execute_result"
    }
   ],
   "source": [
    "# Validate the filtered data\n",
    "df = pd.read_csv('./Data_files/sp500_data_filtered.csv')\n",
    "df"
   ]
  },
  {
   "cell_type": "code",
   "execution_count": null,
   "metadata": {},
   "outputs": [],
   "source": []
  }
 ],
 "metadata": {
  "kernelspec": {
   "display_name": ".venv",
   "language": "python",
   "name": "python3"
  },
  "language_info": {
   "codemirror_mode": {
    "name": "ipython",
    "version": 3
   },
   "file_extension": ".py",
   "mimetype": "text/x-python",
   "name": "python",
   "nbconvert_exporter": "python",
   "pygments_lexer": "ipython3",
   "version": "3.12.7"
  }
 },
 "nbformat": 4,
 "nbformat_minor": 2
}
