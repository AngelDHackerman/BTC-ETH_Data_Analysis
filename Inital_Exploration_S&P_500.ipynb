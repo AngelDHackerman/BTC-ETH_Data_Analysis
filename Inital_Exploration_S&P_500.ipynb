{
 "cells": [
  {
   "cell_type": "markdown",
   "metadata": {},
   "source": [
    "Initial Exploration S&P 500"
   ]
  },
  {
   "cell_type": "code",
   "execution_count": 5,
   "metadata": {},
   "outputs": [],
   "source": [
    "import pandas as pd\n",
    "SP_500 = pd.read_csv('./Data/raw_data_but_cleaned/sp500_data_filtered_2014.csv', encoding='cp1252') # Loading row data\n"
   ]
  },
  {
   "cell_type": "code",
   "execution_count": 6,
   "metadata": {},
   "outputs": [
    {
     "data": {
      "text/html": [
       "<div>\n",
       "<style scoped>\n",
       "    .dataframe tbody tr th:only-of-type {\n",
       "        vertical-align: middle;\n",
       "    }\n",
       "\n",
       "    .dataframe tbody tr th {\n",
       "        vertical-align: top;\n",
       "    }\n",
       "\n",
       "    .dataframe thead th {\n",
       "        text-align: right;\n",
       "    }\n",
       "</style>\n",
       "<table border=\"1\" class=\"dataframe\">\n",
       "  <thead>\n",
       "    <tr style=\"text-align: right;\">\n",
       "      <th></th>\n",
       "      <th>Date</th>\n",
       "      <th>Open</th>\n",
       "      <th>High</th>\n",
       "      <th>Low</th>\n",
       "      <th>Close</th>\n",
       "      <th>Volume</th>\n",
       "    </tr>\n",
       "  </thead>\n",
       "  <tbody>\n",
       "    <tr>\n",
       "      <th>0</th>\n",
       "      <td>2014-09-18</td>\n",
       "      <td>2003.069946</td>\n",
       "      <td>2012.339966</td>\n",
       "      <td>2003.069946</td>\n",
       "      <td>2011.359985</td>\n",
       "      <td>3235340000</td>\n",
       "    </tr>\n",
       "    <tr>\n",
       "      <th>1</th>\n",
       "      <td>2014-09-19</td>\n",
       "      <td>2012.739990</td>\n",
       "      <td>2019.260010</td>\n",
       "      <td>2006.589966</td>\n",
       "      <td>2010.400024</td>\n",
       "      <td>4880220000</td>\n",
       "    </tr>\n",
       "    <tr>\n",
       "      <th>2</th>\n",
       "      <td>2014-09-22</td>\n",
       "      <td>2009.079956</td>\n",
       "      <td>2009.079956</td>\n",
       "      <td>1991.010010</td>\n",
       "      <td>1994.290039</td>\n",
       "      <td>3349670000</td>\n",
       "    </tr>\n",
       "    <tr>\n",
       "      <th>3</th>\n",
       "      <td>2014-09-23</td>\n",
       "      <td>1992.780029</td>\n",
       "      <td>1995.410034</td>\n",
       "      <td>1982.770020</td>\n",
       "      <td>1982.770020</td>\n",
       "      <td>3279350000</td>\n",
       "    </tr>\n",
       "    <tr>\n",
       "      <th>4</th>\n",
       "      <td>2014-09-24</td>\n",
       "      <td>1983.339966</td>\n",
       "      <td>1999.790039</td>\n",
       "      <td>1978.630005</td>\n",
       "      <td>1998.300049</td>\n",
       "      <td>3313850000</td>\n",
       "    </tr>\n",
       "  </tbody>\n",
       "</table>\n",
       "</div>"
      ],
      "text/plain": [
       "         Date         Open         High          Low        Close      Volume\n",
       "0  2014-09-18  2003.069946  2012.339966  2003.069946  2011.359985  3235340000\n",
       "1  2014-09-19  2012.739990  2019.260010  2006.589966  2010.400024  4880220000\n",
       "2  2014-09-22  2009.079956  2009.079956  1991.010010  1994.290039  3349670000\n",
       "3  2014-09-23  1992.780029  1995.410034  1982.770020  1982.770020  3279350000\n",
       "4  2014-09-24  1983.339966  1999.790039  1978.630005  1998.300049  3313850000"
      ]
     },
     "execution_count": 6,
     "metadata": {},
     "output_type": "execute_result"
    }
   ],
   "source": [
    "SP_500.head()"
   ]
  },
  {
   "cell_type": "code",
   "execution_count": 7,
   "metadata": {},
   "outputs": [
    {
     "data": {
      "text/html": [
       "<div>\n",
       "<style scoped>\n",
       "    .dataframe tbody tr th:only-of-type {\n",
       "        vertical-align: middle;\n",
       "    }\n",
       "\n",
       "    .dataframe tbody tr th {\n",
       "        vertical-align: top;\n",
       "    }\n",
       "\n",
       "    .dataframe thead th {\n",
       "        text-align: right;\n",
       "    }\n",
       "</style>\n",
       "<table border=\"1\" class=\"dataframe\">\n",
       "  <thead>\n",
       "    <tr style=\"text-align: right;\">\n",
       "      <th></th>\n",
       "      <th>Date</th>\n",
       "      <th>Open</th>\n",
       "      <th>High</th>\n",
       "      <th>Low</th>\n",
       "      <th>Close</th>\n",
       "      <th>Volume</th>\n",
       "    </tr>\n",
       "  </thead>\n",
       "  <tbody>\n",
       "    <tr>\n",
       "      <th>2550</th>\n",
       "      <td>2024-11-05</td>\n",
       "      <td>5722.430176</td>\n",
       "      <td>5783.439941</td>\n",
       "      <td>5722.100098</td>\n",
       "      <td>5782.759766</td>\n",
       "      <td>3768310000</td>\n",
       "    </tr>\n",
       "    <tr>\n",
       "      <th>2551</th>\n",
       "      <td>2024-11-06</td>\n",
       "      <td>5864.890137</td>\n",
       "      <td>5936.140137</td>\n",
       "      <td>5864.890137</td>\n",
       "      <td>5929.040039</td>\n",
       "      <td>6329530000</td>\n",
       "    </tr>\n",
       "    <tr>\n",
       "      <th>2552</th>\n",
       "      <td>2024-11-07</td>\n",
       "      <td>5947.209961</td>\n",
       "      <td>5983.839844</td>\n",
       "      <td>5947.209961</td>\n",
       "      <td>5973.100098</td>\n",
       "      <td>4925740000</td>\n",
       "    </tr>\n",
       "    <tr>\n",
       "      <th>2553</th>\n",
       "      <td>2024-11-08</td>\n",
       "      <td>5976.759766</td>\n",
       "      <td>6012.450195</td>\n",
       "      <td>5976.759766</td>\n",
       "      <td>5995.540039</td>\n",
       "      <td>4666740000</td>\n",
       "    </tr>\n",
       "    <tr>\n",
       "      <th>2554</th>\n",
       "      <td>2024-11-11</td>\n",
       "      <td>6008.859863</td>\n",
       "      <td>6017.310059</td>\n",
       "      <td>5986.689941</td>\n",
       "      <td>6001.350098</td>\n",
       "      <td>4333000000</td>\n",
       "    </tr>\n",
       "  </tbody>\n",
       "</table>\n",
       "</div>"
      ],
      "text/plain": [
       "            Date         Open         High          Low        Close  \\\n",
       "2550  2024-11-05  5722.430176  5783.439941  5722.100098  5782.759766   \n",
       "2551  2024-11-06  5864.890137  5936.140137  5864.890137  5929.040039   \n",
       "2552  2024-11-07  5947.209961  5983.839844  5947.209961  5973.100098   \n",
       "2553  2024-11-08  5976.759766  6012.450195  5976.759766  5995.540039   \n",
       "2554  2024-11-11  6008.859863  6017.310059  5986.689941  6001.350098   \n",
       "\n",
       "          Volume  \n",
       "2550  3768310000  \n",
       "2551  6329530000  \n",
       "2552  4925740000  \n",
       "2553  4666740000  \n",
       "2554  4333000000  "
      ]
     },
     "execution_count": 7,
     "metadata": {},
     "output_type": "execute_result"
    }
   ],
   "source": [
    "SP_500.tail()"
   ]
  },
  {
   "cell_type": "code",
   "execution_count": 8,
   "metadata": {},
   "outputs": [
    {
     "name": "stdout",
     "output_type": "stream",
     "text": [
      "<class 'pandas.core.frame.DataFrame'>\n",
      "RangeIndex: 2555 entries, 0 to 2554\n",
      "Data columns (total 6 columns):\n",
      " #   Column  Non-Null Count  Dtype  \n",
      "---  ------  --------------  -----  \n",
      " 0   Date    2555 non-null   object \n",
      " 1   Open    2555 non-null   float64\n",
      " 2   High    2555 non-null   float64\n",
      " 3   Low     2555 non-null   float64\n",
      " 4   Close   2555 non-null   float64\n",
      " 5   Volume  2555 non-null   int64  \n",
      "dtypes: float64(4), int64(1), object(1)\n",
      "memory usage: 119.9+ KB\n"
     ]
    }
   ],
   "source": [
    "SP_500.info()"
   ]
  },
  {
   "cell_type": "code",
   "execution_count": 9,
   "metadata": {},
   "outputs": [
    {
     "data": {
      "text/html": [
       "<div>\n",
       "<style scoped>\n",
       "    .dataframe tbody tr th:only-of-type {\n",
       "        vertical-align: middle;\n",
       "    }\n",
       "\n",
       "    .dataframe tbody tr th {\n",
       "        vertical-align: top;\n",
       "    }\n",
       "\n",
       "    .dataframe thead th {\n",
       "        text-align: right;\n",
       "    }\n",
       "</style>\n",
       "<table border=\"1\" class=\"dataframe\">\n",
       "  <thead>\n",
       "    <tr style=\"text-align: right;\">\n",
       "      <th></th>\n",
       "      <th>Open</th>\n",
       "      <th>High</th>\n",
       "      <th>Low</th>\n",
       "      <th>Close</th>\n",
       "      <th>Volume</th>\n",
       "    </tr>\n",
       "  </thead>\n",
       "  <tbody>\n",
       "    <tr>\n",
       "      <th>count</th>\n",
       "      <td>2555.000000</td>\n",
       "      <td>2555.000000</td>\n",
       "      <td>2555.000000</td>\n",
       "      <td>2555.000000</td>\n",
       "      <td>2.555000e+03</td>\n",
       "    </tr>\n",
       "    <tr>\n",
       "      <th>mean</th>\n",
       "      <td>3281.978643</td>\n",
       "      <td>3299.496314</td>\n",
       "      <td>3263.198884</td>\n",
       "      <td>3282.505057</td>\n",
       "      <td>3.996992e+09</td>\n",
       "    </tr>\n",
       "    <tr>\n",
       "      <th>std</th>\n",
       "      <td>1053.773495</td>\n",
       "      <td>1059.366021</td>\n",
       "      <td>1048.211061</td>\n",
       "      <td>1054.093085</td>\n",
       "      <td>9.507071e+08</td>\n",
       "    </tr>\n",
       "    <tr>\n",
       "      <th>min</th>\n",
       "      <td>1833.400024</td>\n",
       "      <td>1847.000000</td>\n",
       "      <td>1810.099976</td>\n",
       "      <td>1829.079956</td>\n",
       "      <td>1.296530e+09</td>\n",
       "    </tr>\n",
       "    <tr>\n",
       "      <th>25%</th>\n",
       "      <td>2365.025024</td>\n",
       "      <td>2370.979980</td>\n",
       "      <td>2352.905029</td>\n",
       "      <td>2363.724976</td>\n",
       "      <td>3.419235e+09</td>\n",
       "    </tr>\n",
       "    <tr>\n",
       "      <th>50%</th>\n",
       "      <td>2943.899902</td>\n",
       "      <td>2954.860107</td>\n",
       "      <td>2926.050049</td>\n",
       "      <td>2943.030029</td>\n",
       "      <td>3.810290e+09</td>\n",
       "    </tr>\n",
       "    <tr>\n",
       "      <th>75%</th>\n",
       "      <td>4158.180176</td>\n",
       "      <td>4181.584961</td>\n",
       "      <td>4129.655029</td>\n",
       "      <td>4161.969971</td>\n",
       "      <td>4.335450e+09</td>\n",
       "    </tr>\n",
       "    <tr>\n",
       "      <th>max</th>\n",
       "      <td>6008.859863</td>\n",
       "      <td>6017.310059</td>\n",
       "      <td>5986.689941</td>\n",
       "      <td>6001.350098</td>\n",
       "      <td>9.976520e+09</td>\n",
       "    </tr>\n",
       "  </tbody>\n",
       "</table>\n",
       "</div>"
      ],
      "text/plain": [
       "              Open         High          Low        Close        Volume\n",
       "count  2555.000000  2555.000000  2555.000000  2555.000000  2.555000e+03\n",
       "mean   3281.978643  3299.496314  3263.198884  3282.505057  3.996992e+09\n",
       "std    1053.773495  1059.366021  1048.211061  1054.093085  9.507071e+08\n",
       "min    1833.400024  1847.000000  1810.099976  1829.079956  1.296530e+09\n",
       "25%    2365.025024  2370.979980  2352.905029  2363.724976  3.419235e+09\n",
       "50%    2943.899902  2954.860107  2926.050049  2943.030029  3.810290e+09\n",
       "75%    4158.180176  4181.584961  4129.655029  4161.969971  4.335450e+09\n",
       "max    6008.859863  6017.310059  5986.689941  6001.350098  9.976520e+09"
      ]
     },
     "execution_count": 9,
     "metadata": {},
     "output_type": "execute_result"
    }
   ],
   "source": [
    "SP_500.describe()"
   ]
  },
  {
   "cell_type": "code",
   "execution_count": 10,
   "metadata": {},
   "outputs": [
    {
     "data": {
      "text/plain": [
       "Date      0\n",
       "Open      0\n",
       "High      0\n",
       "Low       0\n",
       "Close     0\n",
       "Volume    0\n",
       "dtype: int64"
      ]
     },
     "execution_count": 10,
     "metadata": {},
     "output_type": "execute_result"
    }
   ],
   "source": [
    "SP_500.isnull().sum()"
   ]
  },
  {
   "cell_type": "code",
   "execution_count": 11,
   "metadata": {},
   "outputs": [
    {
     "data": {
      "text/plain": [
       "Date      0\n",
       "Open      0\n",
       "High      0\n",
       "Low       0\n",
       "Close     0\n",
       "Volume    0\n",
       "dtype: int64"
      ]
     },
     "execution_count": 11,
     "metadata": {},
     "output_type": "execute_result"
    }
   ],
   "source": [
    "SP_500.isna().sum()"
   ]
  },
  {
   "cell_type": "code",
   "execution_count": 12,
   "metadata": {},
   "outputs": [
    {
     "data": {
      "text/plain": [
       "np.int64(0)"
      ]
     },
     "execution_count": 12,
     "metadata": {},
     "output_type": "execute_result"
    }
   ],
   "source": [
    "SP_500.duplicated().sum()"
   ]
  },
  {
   "cell_type": "markdown",
   "metadata": {},
   "source": [
    "Changing Data column type to \"datetime64\""
   ]
  },
  {
   "cell_type": "code",
   "execution_count": 13,
   "metadata": {},
   "outputs": [],
   "source": [
    "SP_500['Date'] = pd.to_datetime(SP_500['Date'])"
   ]
  },
  {
   "cell_type": "code",
   "execution_count": 14,
   "metadata": {},
   "outputs": [
    {
     "name": "stdout",
     "output_type": "stream",
     "text": [
      "<class 'pandas.core.frame.DataFrame'>\n",
      "RangeIndex: 2555 entries, 0 to 2554\n",
      "Data columns (total 6 columns):\n",
      " #   Column  Non-Null Count  Dtype         \n",
      "---  ------  --------------  -----         \n",
      " 0   Date    2555 non-null   datetime64[ns]\n",
      " 1   Open    2555 non-null   float64       \n",
      " 2   High    2555 non-null   float64       \n",
      " 3   Low     2555 non-null   float64       \n",
      " 4   Close   2555 non-null   float64       \n",
      " 5   Volume  2555 non-null   int64         \n",
      "dtypes: datetime64[ns](1), float64(4), int64(1)\n",
      "memory usage: 119.9 KB\n"
     ]
    }
   ],
   "source": [
    "SP_500.info() # Changed date to datetime64 type"
   ]
  },
  {
   "cell_type": "markdown",
   "metadata": {},
   "source": [
    "Trim the data from a start date September 18 2014 "
   ]
  },
  {
   "cell_type": "code",
   "execution_count": 21,
   "metadata": {},
   "outputs": [],
   "source": [
    "# Filter Data from sep 18 2014 (same has bitcoin)\n",
    "start_date = \"2014-09-18\"\n",
    "SP_500_data_filtered = SP_500[SP_500['Date'] >= start_date]"
   ]
  },
  {
   "cell_type": "code",
   "execution_count": 25,
   "metadata": {},
   "outputs": [],
   "source": [
    "finish_date = \"2024-05-01\"\n",
    "SP_500_data_filtered = SP_500_data_filtered[SP_500_data_filtered['Date'] <= finish_date]"
   ]
  },
  {
   "cell_type": "code",
   "execution_count": 26,
   "metadata": {},
   "outputs": [],
   "source": [
    "# Convert into a CSV\n",
    "SP_500_data_filtered.to_csv('./Data/raw_data_but_cleaned/sp500_data_filtered.csv', index=False)"
   ]
  },
  {
   "cell_type": "code",
   "execution_count": 27,
   "metadata": {},
   "outputs": [
    {
     "data": {
      "text/html": [
       "<div>\n",
       "<style scoped>\n",
       "    .dataframe tbody tr th:only-of-type {\n",
       "        vertical-align: middle;\n",
       "    }\n",
       "\n",
       "    .dataframe tbody tr th {\n",
       "        vertical-align: top;\n",
       "    }\n",
       "\n",
       "    .dataframe thead th {\n",
       "        text-align: right;\n",
       "    }\n",
       "</style>\n",
       "<table border=\"1\" class=\"dataframe\">\n",
       "  <thead>\n",
       "    <tr style=\"text-align: right;\">\n",
       "      <th></th>\n",
       "      <th>Date</th>\n",
       "      <th>Open</th>\n",
       "      <th>High</th>\n",
       "      <th>Low</th>\n",
       "      <th>Close</th>\n",
       "      <th>Volume</th>\n",
       "    </tr>\n",
       "  </thead>\n",
       "  <tbody>\n",
       "    <tr>\n",
       "      <th>0</th>\n",
       "      <td>2014-09-18</td>\n",
       "      <td>2003.069946</td>\n",
       "      <td>2012.339966</td>\n",
       "      <td>2003.069946</td>\n",
       "      <td>2011.359985</td>\n",
       "      <td>3235340000</td>\n",
       "    </tr>\n",
       "    <tr>\n",
       "      <th>1</th>\n",
       "      <td>2014-09-19</td>\n",
       "      <td>2012.739990</td>\n",
       "      <td>2019.260010</td>\n",
       "      <td>2006.589966</td>\n",
       "      <td>2010.400024</td>\n",
       "      <td>4880220000</td>\n",
       "    </tr>\n",
       "    <tr>\n",
       "      <th>2</th>\n",
       "      <td>2014-09-22</td>\n",
       "      <td>2009.079956</td>\n",
       "      <td>2009.079956</td>\n",
       "      <td>1991.010010</td>\n",
       "      <td>1994.290039</td>\n",
       "      <td>3349670000</td>\n",
       "    </tr>\n",
       "    <tr>\n",
       "      <th>3</th>\n",
       "      <td>2014-09-23</td>\n",
       "      <td>1992.780029</td>\n",
       "      <td>1995.410034</td>\n",
       "      <td>1982.770020</td>\n",
       "      <td>1982.770020</td>\n",
       "      <td>3279350000</td>\n",
       "    </tr>\n",
       "    <tr>\n",
       "      <th>4</th>\n",
       "      <td>2014-09-24</td>\n",
       "      <td>1983.339966</td>\n",
       "      <td>1999.790039</td>\n",
       "      <td>1978.630005</td>\n",
       "      <td>1998.300049</td>\n",
       "      <td>3313850000</td>\n",
       "    </tr>\n",
       "    <tr>\n",
       "      <th>...</th>\n",
       "      <td>...</td>\n",
       "      <td>...</td>\n",
       "      <td>...</td>\n",
       "      <td>...</td>\n",
       "      <td>...</td>\n",
       "      <td>...</td>\n",
       "    </tr>\n",
       "    <tr>\n",
       "      <th>2416</th>\n",
       "      <td>2024-04-25</td>\n",
       "      <td>5019.879883</td>\n",
       "      <td>5057.750000</td>\n",
       "      <td>4990.580078</td>\n",
       "      <td>5048.419922</td>\n",
       "      <td>3958050000</td>\n",
       "    </tr>\n",
       "    <tr>\n",
       "      <th>2417</th>\n",
       "      <td>2024-04-26</td>\n",
       "      <td>5084.649902</td>\n",
       "      <td>5114.620117</td>\n",
       "      <td>5073.140137</td>\n",
       "      <td>5099.959961</td>\n",
       "      <td>3604140000</td>\n",
       "    </tr>\n",
       "    <tr>\n",
       "      <th>2418</th>\n",
       "      <td>2024-04-29</td>\n",
       "      <td>5114.129883</td>\n",
       "      <td>5123.490234</td>\n",
       "      <td>5088.649902</td>\n",
       "      <td>5116.169922</td>\n",
       "      <td>3447450000</td>\n",
       "    </tr>\n",
       "    <tr>\n",
       "      <th>2419</th>\n",
       "      <td>2024-04-30</td>\n",
       "      <td>5103.779785</td>\n",
       "      <td>5110.830078</td>\n",
       "      <td>5035.310059</td>\n",
       "      <td>5035.689941</td>\n",
       "      <td>4082470000</td>\n",
       "    </tr>\n",
       "    <tr>\n",
       "      <th>2420</th>\n",
       "      <td>2024-05-01</td>\n",
       "      <td>5029.029785</td>\n",
       "      <td>5096.120117</td>\n",
       "      <td>5013.450195</td>\n",
       "      <td>5018.390137</td>\n",
       "      <td>4544170000</td>\n",
       "    </tr>\n",
       "  </tbody>\n",
       "</table>\n",
       "<p>2421 rows × 6 columns</p>\n",
       "</div>"
      ],
      "text/plain": [
       "            Date         Open         High          Low        Close  \\\n",
       "0     2014-09-18  2003.069946  2012.339966  2003.069946  2011.359985   \n",
       "1     2014-09-19  2012.739990  2019.260010  2006.589966  2010.400024   \n",
       "2     2014-09-22  2009.079956  2009.079956  1991.010010  1994.290039   \n",
       "3     2014-09-23  1992.780029  1995.410034  1982.770020  1982.770020   \n",
       "4     2014-09-24  1983.339966  1999.790039  1978.630005  1998.300049   \n",
       "...          ...          ...          ...          ...          ...   \n",
       "2416  2024-04-25  5019.879883  5057.750000  4990.580078  5048.419922   \n",
       "2417  2024-04-26  5084.649902  5114.620117  5073.140137  5099.959961   \n",
       "2418  2024-04-29  5114.129883  5123.490234  5088.649902  5116.169922   \n",
       "2419  2024-04-30  5103.779785  5110.830078  5035.310059  5035.689941   \n",
       "2420  2024-05-01  5029.029785  5096.120117  5013.450195  5018.390137   \n",
       "\n",
       "          Volume  \n",
       "0     3235340000  \n",
       "1     4880220000  \n",
       "2     3349670000  \n",
       "3     3279350000  \n",
       "4     3313850000  \n",
       "...          ...  \n",
       "2416  3958050000  \n",
       "2417  3604140000  \n",
       "2418  3447450000  \n",
       "2419  4082470000  \n",
       "2420  4544170000  \n",
       "\n",
       "[2421 rows x 6 columns]"
      ]
     },
     "execution_count": 27,
     "metadata": {},
     "output_type": "execute_result"
    }
   ],
   "source": [
    "# Validate the filtered data\n",
    "df = pd.read_csv('./Data/raw_data_but_cleaned/sp500_data_filtered.csv')\n",
    "df"
   ]
  },
  {
   "cell_type": "code",
   "execution_count": null,
   "metadata": {},
   "outputs": [],
   "source": []
  }
 ],
 "metadata": {
  "kernelspec": {
   "display_name": ".venv",
   "language": "python",
   "name": "python3"
  },
  "language_info": {
   "codemirror_mode": {
    "name": "ipython",
    "version": 3
   },
   "file_extension": ".py",
   "mimetype": "text/x-python",
   "name": "python",
   "nbconvert_exporter": "python",
   "pygments_lexer": "ipython3",
   "version": "3.12.7"
  }
 },
 "nbformat": 4,
 "nbformat_minor": 2
}
