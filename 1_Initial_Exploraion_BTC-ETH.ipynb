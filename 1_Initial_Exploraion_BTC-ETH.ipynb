{
 "cells": [
  {
   "cell_type": "markdown",
   "metadata": {},
   "source": [
    "Initial Exploration"
   ]
  },
  {
   "cell_type": "code",
   "execution_count": null,
   "metadata": {},
   "outputs": [],
   "source": [
    "import pandas as pd\n",
    "\n",
    "# loading the 2 different datasets with different dates and leghts\n",
    "BTC_2014_2024 = pd.read_csv('./Data_files/BTC-USD (2014-2024).csv', encoding='cp1252')\n",
    "BTC_May_2024 = pd.read_csv('./Data_files/Bitcoin USD (01-05.2024).csv', encoding='cp1252')"
   ]
  },
  {
   "cell_type": "code",
   "execution_count": null,
   "metadata": {},
   "outputs": [],
   "source": [
    "# Dictionary with the name of each dataset\n",
    "datasets = {\n",
    "  \"BTC_2014_2024\": BTC_2014_2024,\n",
    "  \"BTC_May_2024\": BTC_May_2024,\n",
    "}\n",
    "\n",
    "# Apply head, info and describe to each dataset\n",
    "for name, df in datasets.items():\n",
    "  print(f\"Dataset: {name}\")\n",
    "  print(f\"First 5 rows: \")\n",
    "  print(df.head())\n",
    "  print(f\"Last 5 rows: \")\n",
    "  print(df.tail())\n",
    "  print(\"\\n Info: \")\n",
    "  print(df.info())\n",
    "  print(\"\\n Describe: \")\n",
    "  print(df.describe())\n",
    "  print(\"\\n Total IsNull Values: \")\n",
    "  print(df.isnull().sum())\n",
    "  print(\"\\n Total Duplicated Values: \")\n",
    "  print(df.duplicated().sum())\n",
    "  print(\"-\" * 40)"
   ]
  },
  {
   "cell_type": "markdown",
   "metadata": {},
   "source": [
    "Coverting type of Date column to DateTime"
   ]
  },
  {
   "cell_type": "code",
   "execution_count": null,
   "metadata": {},
   "outputs": [],
   "source": [
    "BTC_2014_2024['Date'] = pd.to_datetime(BTC_2014_2024['Date'])\n",
    "BTC_May_2024['Date'] = pd.to_datetime(BTC_May_2024['Date'])"
   ]
  },
  {
   "cell_type": "markdown",
   "metadata": {},
   "source": [
    "Combining Bitcoin datasets"
   ]
  },
  {
   "cell_type": "code",
   "execution_count": null,
   "metadata": {},
   "outputs": [],
   "source": [
    "# BTC datasets\n",
    "BTC_combined = pd.concat([BTC_May_2024, BTC_2014_2024], ignore_index=True)"
   ]
  },
  {
   "cell_type": "markdown",
   "metadata": {},
   "source": [
    "Sorting by Date"
   ]
  },
  {
   "cell_type": "code",
   "execution_count": null,
   "metadata": {},
   "outputs": [],
   "source": [
    "BTC_combined = BTC_combined.sort_values(by='Date').reset_index(drop=True)"
   ]
  },
  {
   "cell_type": "code",
   "execution_count": null,
   "metadata": {},
   "outputs": [],
   "source": [
    "# Quick look\n",
    "print(BTC_combined.head())\n",
    "print(BTC_combined.info())"
   ]
  },
  {
   "cell_type": "code",
   "execution_count": null,
   "metadata": {},
   "outputs": [],
   "source": [
    "BTC_combined.isnull().sum()"
   ]
  },
  {
   "cell_type": "markdown",
   "metadata": {},
   "source": [
    "Removing duplicated and null values"
   ]
  },
  {
   "cell_type": "code",
   "execution_count": null,
   "metadata": {},
   "outputs": [],
   "source": [
    "# Removing duplicated rows in Bitcoin dataset\n",
    "BTC_combined = BTC_combined.drop_duplicates()"
   ]
  },
  {
   "cell_type": "code",
   "execution_count": null,
   "metadata": {},
   "outputs": [],
   "source": [
    "BTC_combined.duplicated().sum()"
   ]
  },
  {
   "cell_type": "markdown",
   "metadata": {},
   "source": [
    "Removing null values"
   ]
  },
  {
   "cell_type": "code",
   "execution_count": null,
   "metadata": {},
   "outputs": [],
   "source": [
    "BTC_combined = BTC_combined.dropna()"
   ]
  },
  {
   "cell_type": "markdown",
   "metadata": {},
   "source": [
    "Create new Dataset for Bitcoin"
   ]
  },
  {
   "cell_type": "code",
   "execution_count": null,
   "metadata": {},
   "outputs": [],
   "source": [
    "BTC_combined.to_csv(\"./Data_files/BTC_combined_2014_2024.csv\", index=False)"
   ]
  }
 ],
 "metadata": {
  "kernelspec": {
   "display_name": ".venv",
   "language": "python",
   "name": "python3"
  },
  "language_info": {
   "codemirror_mode": {
    "name": "ipython",
    "version": 3
   },
   "file_extension": ".py",
   "mimetype": "text/x-python",
   "name": "python",
   "nbconvert_exporter": "python",
   "pygments_lexer": "ipython3",
   "version": "3.12.7"
  }
 },
 "nbformat": 4,
 "nbformat_minor": 2
}
