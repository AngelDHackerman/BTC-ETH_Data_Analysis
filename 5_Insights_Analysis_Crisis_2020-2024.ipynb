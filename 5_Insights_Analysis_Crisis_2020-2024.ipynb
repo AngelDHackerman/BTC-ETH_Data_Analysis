{
 "cells": [
  {
   "cell_type": "markdown",
   "metadata": {},
   "source": [
    "Insight 1: \"What is the correlation between Bitcoin and the S&P 500 during periods of economic crisis?\"\n",
    "\n",
    "Insight 2: \"Does Bitcoin exhibits higher volatility compared to the S&P 500, especially in recent years?\"\n",
    "\n",
    "Insight 3: \"The S&P 500 has more consistent returns, while Bitcoin shows extreme spikes, showing accumulated returns\""
   ]
  },
  {
   "cell_type": "code",
   "execution_count": null,
   "metadata": {},
   "outputs": [],
   "source": [
    "import matplotlib.pyplot as plt\n",
    "import pandas as pd\n",
    "import seaborn as sns\n",
    "\n",
    "btc_data = pd.read_csv('./Data/btc_data_aligned_with_sp500.csv', encoding='cp1252')\n",
    "sp500_data = pd.read_csv('./Data/sp500_data_aligned_with_btc_data.csv', encoding='cp1252')\n",
    "\n",
    "btc_data['Date'] = pd.to_datetime(btc_data['Date'])\n",
    "sp500_data['Date'] = pd.to_datetime(sp500_data['Date'])"
   ]
  },
  {
   "cell_type": "code",
   "execution_count": null,
   "metadata": {},
   "outputs": [],
   "source": [
    "# Rename the 'Close' columns for clarity\n",
    "btc_data.rename(columns={\"Close\": \"BTC_Price\"}, inplace=True)\n",
    "sp500_data.rename(columns={\"Close\": \"SP500_Price\"}, inplace=True)\n",
    "\n",
    "# Merge the datasets based on the Date column\n",
    "merged_data = pd.merge(btc_data[['Date', 'BTC_Price']], sp500_data[['Date', 'SP500_Price']], on=\"Date\")\n",
    "\n",
    "# In this case it is NOT necessary to set 'Date' as the index, \n",
    "# it is more often use when doing resampling or slicing "
   ]
  },
  {
   "cell_type": "code",
   "execution_count": null,
   "metadata": {},
   "outputs": [],
   "source": [
    "merged_data"
   ]
  },
  {
   "cell_type": "markdown",
   "metadata": {},
   "source": [
    "Insight 1: \"What is the correlation between Bitcoin and the S&P 500 during periods of economic crisis? (2020-03 to 2021-12)\""
   ]
  },
  {
   "cell_type": "code",
   "execution_count": null,
   "metadata": {},
   "outputs": [],
   "source": [
    "# Correlation between Bitcoin and S&P 500 during Covid-19 (2020-03 to 2021-12)\n",
    "start_date = '2020-03-01'\n",
    "end_date = '2021-12-31'\n",
    "covid_data = merged_data[(merged_data['Date'] >= start_date) & (merged_data['Date'] <= end_date)]\n",
    "\n",
    "# Calculate correlation\n",
    "correlation = covid_data[['BTC_Price', 'SP500_Price']].corr().iloc[0, 1] # this use the Pearson correlation \n",
    "\n",
    "print(\"The correlation between Bitcoin and S&P 500 during the COVID-19 crisis is: \", correlation) # The correlation between the BTC and SP500 was really high"
   ]
  },
  {
   "cell_type": "markdown",
   "metadata": {},
   "source": [
    "Graphic of that Covid-19 correlation"
   ]
  },
  {
   "cell_type": "code",
   "execution_count": null,
   "metadata": {},
   "outputs": [],
   "source": [
    "sns.set_theme(style='whitegrid')\n",
    "plt.figure(figsize=(14,8)) # Figure with multiple subplots\n",
    "\n",
    "# Plot 1: Time series comparison\n",
    "plt.subplot(2, 1, 1)\n",
    "plt.plot(covid_data['Date'], covid_data['BTC_Price'], label='Bitcoin', color='orange', alpha=0.8)\n",
    "plt.plot(covid_data['Date'], covid_data['SP500_Price'], label='S&P 500', color='blue', alpha=0.8)\n",
    "plt.title('Bitcoin vs S&P 500 Prices (2020-03 to 2021-12)', fontsize=14)\n",
    "plt.ylabel('Price')\n",
    "plt.legend()\n",
    "plt.grid(True)\n",
    "\n",
    "# Plot 2: Scatter plot with correlation (linear regression)\n",
    "plt.subplot(2, 1, 2)\n",
    "sns.regplot(\n",
    "  x= 'BTC_Price',\n",
    "  y='SP500_Price',\n",
    "  data=covid_data,\n",
    "  scatter_kws = {'alpha': 0.6},\n",
    "  line_kws={'color': 'red', 'alpha': 0.6}\n",
    ")\n",
    "plt.title('Correlation Between Bitcoin and S&P 500', fontsize=14)\n",
    "plt.xlabel('Bitcoin Price')\n",
    "plt.ylabel('S&P 500 Price')\n",
    "\n",
    "# Adjust layout\n",
    "plt.tight_layout()\n",
    "plt.show()"
   ]
  },
  {
   "cell_type": "markdown",
   "metadata": {},
   "source": [
    "Correlation with BTC and S&P 500 during Supply and energy Crisis 2021-2022 (Still covid issues and Ukraine-Russia War)"
   ]
  },
  {
   "cell_type": "code",
   "execution_count": null,
   "metadata": {},
   "outputs": [],
   "source": [
    "# Filter data for this crisis period (2021-2022)\n",
    "start_date = '2021-01-01'\n",
    "end_date = '2022-12-31'\n",
    "supply_crisis_data = merged_data[(merged_data['Date'] >= start_date) & (merged_data['Date'] <= end_date)]\n",
    "supply_crisis_data\n"
   ]
  },
  {
   "cell_type": "code",
   "execution_count": null,
   "metadata": {},
   "outputs": [],
   "source": [
    "# Calculate Correlation\n",
    "correlation = supply_crisis_data[['BTC_Price', 'SP500_Price']].corr().iloc[0, 1]\n",
    "print(\"The correlation between Bitcoin and S&P 500 during the Supply and Energy crisis is: \", correlation) # The correlation between the BTC and SP500 was 0.60 which is still positive but moderated"
   ]
  },
  {
   "cell_type": "markdown",
   "metadata": {},
   "source": [
    "Displaying grafics for this correlation"
   ]
  },
  {
   "cell_type": "code",
   "execution_count": null,
   "metadata": {},
   "outputs": [],
   "source": [
    "sns.set_theme(style='whitegrid')\n",
    "plt.figure(figsize=(14, 8))\n",
    "\n",
    "# Time series graphic\n",
    "plt.subplot(2, 1, 1)\n",
    "plt.plot(supply_crisis_data['Date'], supply_crisis_data['BTC_Price'], label='Bitcoin', color='orange', alpha=0.8)\n",
    "plt.plot(supply_crisis_data['Date'], supply_crisis_data['SP500_Price'], label='S&P 500', color='blue', alpha=0.8)\n",
    "plt.title('Bitcoin vs S&P 500 Prices (2021 - 2022)', fontsize=14)\n",
    "plt.ylabel('Price')\n",
    "plt.legend()\n",
    "plt.grid(True)\n",
    "\n",
    "# Scatter plot with regression line, graphic for the correlation \n",
    "plt.subplot(2, 1, 2)\n",
    "sns.regplot(\n",
    "  x='BTC_Price',\n",
    "  y='SP500_Price',\n",
    "  data=supply_crisis_data,\n",
    "  scatter_kws={'alpha': 0.6},\n",
    "  line_kws={'color': 'red', 'alpha': 0.6}\n",
    ")"
   ]
  },
  {
   "cell_type": "markdown",
   "metadata": {},
   "source": [
    "Correlation with BTC and S&P 500, economic crisis 2023-2024"
   ]
  },
  {
   "cell_type": "code",
   "execution_count": null,
   "metadata": {},
   "outputs": [],
   "source": [
    "# Filter data for this crisis period (2023-2024)\n",
    "start_date = '2023-01-01'\n",
    "end_date = '2024-05-1'\n",
    "economic_crisis_data = merged_data[(merged_data['Date'] >= start_date) & (merged_data['Date'] <= end_date)]\n",
    "economic_crisis_data"
   ]
  },
  {
   "cell_type": "code",
   "execution_count": null,
   "metadata": {},
   "outputs": [],
   "source": [
    "# Calculate Correlation\n",
    "correlation_economic_crisis = economic_crisis_data[['BTC_Price', 'SP500_Price']].corr().iloc[0, 1]\n",
    "print(\"The correlation between Bitcoin and S&P 500 during the economic crisis is: \", correlation_economic_crisis) # The correlation between the BTC and SP500 was 0.60 which is very positive"
   ]
  },
  {
   "cell_type": "markdown",
   "metadata": {},
   "source": [
    "Displaying grafics for correlation"
   ]
  },
  {
   "cell_type": "code",
   "execution_count": null,
   "metadata": {},
   "outputs": [],
   "source": [
    "sns.set_theme(style='whitegrid')\n",
    "plt.figure(figsize=(14, 8))\n",
    "\n",
    "# Time series graphic\n",
    "plt.subplot(2, 1, 1)\n",
    "plt.plot(economic_crisis_data['Date'], economic_crisis_data['BTC_Price'], label='Bitcoin', color='green', alpha=0.8)\n",
    "plt.plot(economic_crisis_data['Date'], economic_crisis_data['SP500_Price'], label='S&P 500', color='blue', alpha=0.8)\n",
    "plt.title('Bitcoin vs S&P 500 Prices (2023 - 2024)', fontsize=14)\n",
    "plt.ylabel('Price')\n",
    "plt.legend()\n",
    "plt.grid(True)\n",
    "\n",
    "# Scatter plot with regression line, graphic for the correlation\n",
    "plt.subplot(2, 1, 2)\n",
    "sns.regplot(\n",
    "  x='BTC_Price',\n",
    "  y='SP500_Price', \n",
    "  data=economic_crisis_data,\n",
    "  scatter_kws={'alpha': 0.6},\n",
    "  line_kws={'color': 'black', 'alpha': 0.6}\n",
    ")"
   ]
  },
  {
   "cell_type": "code",
   "execution_count": null,
   "metadata": {},
   "outputs": [],
   "source": []
  }
 ],
 "metadata": {
  "kernelspec": {
   "display_name": ".venv",
   "language": "python",
   "name": "python3"
  },
  "language_info": {
   "codemirror_mode": {
    "name": "ipython",
    "version": 3
   },
   "file_extension": ".py",
   "mimetype": "text/x-python",
   "name": "python",
   "nbconvert_exporter": "python",
   "pygments_lexer": "ipython3",
   "version": "3.12.7"
  }
 },
 "nbformat": 4,
 "nbformat_minor": 2
}
