{
 "cells": [
  {
   "cell_type": "markdown",
   "metadata": {},
   "source": [
    "In this notebook we will go further in the cleaning of the data, we will do the quality evaluation for both datasets"
   ]
  },
  {
   "cell_type": "code",
   "execution_count": 1,
   "metadata": {},
   "outputs": [],
   "source": [
    "import pandas as pd\n",
    "btc_data = pd.read_csv('./Data/btc_data_aligned_with_sp500.csv', encoding='cp1252')\n",
    "sp500_data = pd.read_csv('./Data/sp500_data_aligned_with_btc_data.csv', encoding='cp1252')"
   ]
  },
  {
   "cell_type": "code",
   "execution_count": 2,
   "metadata": {},
   "outputs": [],
   "source": [
    "btc_data['Date'] = pd.to_datetime(btc_data['Date'])\n",
    "sp500_data['Date'] = pd.to_datetime(sp500_data['Date'])"
   ]
  },
  {
   "cell_type": "markdown",
   "metadata": {},
   "source": [
    "Looking for null or missing values"
   ]
  },
  {
   "cell_type": "code",
   "execution_count": 3,
   "metadata": {},
   "outputs": [
    {
     "data": {
      "text/plain": [
       "Date         0\n",
       "Open         0\n",
       "High         0\n",
       "Low          0\n",
       "Close        0\n",
       "Adj Close    0\n",
       "Volume       0\n",
       "dtype: int64"
      ]
     },
     "execution_count": 3,
     "metadata": {},
     "output_type": "execute_result"
    }
   ],
   "source": [
    "btc_data.isnull().sum()"
   ]
  },
  {
   "cell_type": "code",
   "execution_count": 4,
   "metadata": {},
   "outputs": [
    {
     "data": {
      "text/plain": [
       "Date      0\n",
       "Open      0\n",
       "High      0\n",
       "Low       0\n",
       "Close     0\n",
       "Volume    0\n",
       "dtype: int64"
      ]
     },
     "execution_count": 4,
     "metadata": {},
     "output_type": "execute_result"
    }
   ],
   "source": [
    "sp500_data.isnull().sum()"
   ]
  },
  {
   "cell_type": "markdown",
   "metadata": {},
   "source": [
    "Looking for Duplicates"
   ]
  },
  {
   "cell_type": "code",
   "execution_count": 5,
   "metadata": {},
   "outputs": [
    {
     "data": {
      "text/plain": [
       "np.int64(0)"
      ]
     },
     "execution_count": 5,
     "metadata": {},
     "output_type": "execute_result"
    }
   ],
   "source": [
    "btc_data.duplicated().sum()"
   ]
  },
  {
   "cell_type": "code",
   "execution_count": 6,
   "metadata": {},
   "outputs": [
    {
     "data": {
      "text/plain": [
       "np.int64(0)"
      ]
     },
     "execution_count": 6,
     "metadata": {},
     "output_type": "execute_result"
    }
   ],
   "source": [
    "sp500_data.duplicated().sum()"
   ]
  },
  {
   "cell_type": "markdown",
   "metadata": {},
   "source": [
    "Checking Ranges and Consistency of the values"
   ]
  },
  {
   "cell_type": "code",
   "execution_count": 7,
   "metadata": {},
   "outputs": [
    {
     "data": {
      "text/html": [
       "<div>\n",
       "<style scoped>\n",
       "    .dataframe tbody tr th:only-of-type {\n",
       "        vertical-align: middle;\n",
       "    }\n",
       "\n",
       "    .dataframe tbody tr th {\n",
       "        vertical-align: top;\n",
       "    }\n",
       "\n",
       "    .dataframe thead th {\n",
       "        text-align: right;\n",
       "    }\n",
       "</style>\n",
       "<table border=\"1\" class=\"dataframe\">\n",
       "  <thead>\n",
       "    <tr style=\"text-align: right;\">\n",
       "      <th></th>\n",
       "      <th>Date</th>\n",
       "      <th>Open</th>\n",
       "      <th>High</th>\n",
       "      <th>Low</th>\n",
       "      <th>Close</th>\n",
       "      <th>Adj Close</th>\n",
       "      <th>Volume</th>\n",
       "    </tr>\n",
       "  </thead>\n",
       "  <tbody>\n",
       "    <tr>\n",
       "      <th>count</th>\n",
       "      <td>2420</td>\n",
       "      <td>2420.000000</td>\n",
       "      <td>2420.000000</td>\n",
       "      <td>2420.000000</td>\n",
       "      <td>2420.000000</td>\n",
       "      <td>2420.000000</td>\n",
       "      <td>2.420000e+03</td>\n",
       "    </tr>\n",
       "    <tr>\n",
       "      <th>mean</th>\n",
       "      <td>2019-07-09 02:14:28.760330752</td>\n",
       "      <td>16025.704048</td>\n",
       "      <td>16435.798946</td>\n",
       "      <td>15581.727054</td>\n",
       "      <td>16039.567219</td>\n",
       "      <td>16039.567219</td>\n",
       "      <td>1.839613e+10</td>\n",
       "    </tr>\n",
       "    <tr>\n",
       "      <th>min</th>\n",
       "      <td>2014-09-18 00:00:00</td>\n",
       "      <td>176.897003</td>\n",
       "      <td>215.240997</td>\n",
       "      <td>171.509995</td>\n",
       "      <td>178.102997</td>\n",
       "      <td>178.102997</td>\n",
       "      <td>7.845880e+06</td>\n",
       "    </tr>\n",
       "    <tr>\n",
       "      <th>25%</th>\n",
       "      <td>2017-02-12 06:00:00</td>\n",
       "      <td>1026.510010</td>\n",
       "      <td>1046.707550</td>\n",
       "      <td>1008.504989</td>\n",
       "      <td>1029.292511</td>\n",
       "      <td>1029.292511</td>\n",
       "      <td>2.364240e+08</td>\n",
       "    </tr>\n",
       "    <tr>\n",
       "      <th>50%</th>\n",
       "      <td>2019-07-10 12:00:00</td>\n",
       "      <td>8705.449219</td>\n",
       "      <td>8875.632812</td>\n",
       "      <td>8424.935058</td>\n",
       "      <td>8712.442383</td>\n",
       "      <td>8712.442383</td>\n",
       "      <td>1.443086e+10</td>\n",
       "    </tr>\n",
       "    <tr>\n",
       "      <th>75%</th>\n",
       "      <td>2021-12-01 06:00:00</td>\n",
       "      <td>26887.815918</td>\n",
       "      <td>27335.662598</td>\n",
       "      <td>26415.205078</td>\n",
       "      <td>26877.522461</td>\n",
       "      <td>26877.522461</td>\n",
       "      <td>3.022172e+10</td>\n",
       "    </tr>\n",
       "    <tr>\n",
       "      <th>max</th>\n",
       "      <td>2024-05-01 00:00:00</td>\n",
       "      <td>73079.375000</td>\n",
       "      <td>73750.070313</td>\n",
       "      <td>71334.093750</td>\n",
       "      <td>73083.500000</td>\n",
       "      <td>73083.500000</td>\n",
       "      <td>3.509679e+11</td>\n",
       "    </tr>\n",
       "    <tr>\n",
       "      <th>std</th>\n",
       "      <td>NaN</td>\n",
       "      <td>17803.837508</td>\n",
       "      <td>18272.309272</td>\n",
       "      <td>17272.649419</td>\n",
       "      <td>17807.449450</td>\n",
       "      <td>17807.449450</td>\n",
       "      <td>2.053435e+10</td>\n",
       "    </tr>\n",
       "  </tbody>\n",
       "</table>\n",
       "</div>"
      ],
      "text/plain": [
       "                                Date          Open          High  \\\n",
       "count                           2420   2420.000000   2420.000000   \n",
       "mean   2019-07-09 02:14:28.760330752  16025.704048  16435.798946   \n",
       "min              2014-09-18 00:00:00    176.897003    215.240997   \n",
       "25%              2017-02-12 06:00:00   1026.510010   1046.707550   \n",
       "50%              2019-07-10 12:00:00   8705.449219   8875.632812   \n",
       "75%              2021-12-01 06:00:00  26887.815918  27335.662598   \n",
       "max              2024-05-01 00:00:00  73079.375000  73750.070313   \n",
       "std                              NaN  17803.837508  18272.309272   \n",
       "\n",
       "                Low         Close     Adj Close        Volume  \n",
       "count   2420.000000   2420.000000   2420.000000  2.420000e+03  \n",
       "mean   15581.727054  16039.567219  16039.567219  1.839613e+10  \n",
       "min      171.509995    178.102997    178.102997  7.845880e+06  \n",
       "25%     1008.504989   1029.292511   1029.292511  2.364240e+08  \n",
       "50%     8424.935058   8712.442383   8712.442383  1.443086e+10  \n",
       "75%    26415.205078  26877.522461  26877.522461  3.022172e+10  \n",
       "max    71334.093750  73083.500000  73083.500000  3.509679e+11  \n",
       "std    17272.649419  17807.449450  17807.449450  2.053435e+10  "
      ]
     },
     "execution_count": 7,
     "metadata": {},
     "output_type": "execute_result"
    }
   ],
   "source": [
    "btc_data.describe()"
   ]
  },
  {
   "cell_type": "code",
   "execution_count": 8,
   "metadata": {},
   "outputs": [
    {
     "data": {
      "text/html": [
       "<div>\n",
       "<style scoped>\n",
       "    .dataframe tbody tr th:only-of-type {\n",
       "        vertical-align: middle;\n",
       "    }\n",
       "\n",
       "    .dataframe tbody tr th {\n",
       "        vertical-align: top;\n",
       "    }\n",
       "\n",
       "    .dataframe thead th {\n",
       "        text-align: right;\n",
       "    }\n",
       "</style>\n",
       "<table border=\"1\" class=\"dataframe\">\n",
       "  <thead>\n",
       "    <tr style=\"text-align: right;\">\n",
       "      <th></th>\n",
       "      <th>Date</th>\n",
       "      <th>Open</th>\n",
       "      <th>High</th>\n",
       "      <th>Low</th>\n",
       "      <th>Close</th>\n",
       "      <th>Volume</th>\n",
       "    </tr>\n",
       "  </thead>\n",
       "  <tbody>\n",
       "    <tr>\n",
       "      <th>count</th>\n",
       "      <td>2420</td>\n",
       "      <td>2420.000000</td>\n",
       "      <td>2420.000000</td>\n",
       "      <td>2420.000000</td>\n",
       "      <td>2420.000000</td>\n",
       "      <td>2.420000e+03</td>\n",
       "    </tr>\n",
       "    <tr>\n",
       "      <th>mean</th>\n",
       "      <td>2019-07-09 02:14:28.760330752</td>\n",
       "      <td>3156.348093</td>\n",
       "      <td>3173.444873</td>\n",
       "      <td>3138.007967</td>\n",
       "      <td>3156.856128</td>\n",
       "      <td>4.006299e+09</td>\n",
       "    </tr>\n",
       "    <tr>\n",
       "      <th>min</th>\n",
       "      <td>2014-09-18 00:00:00</td>\n",
       "      <td>1833.400024</td>\n",
       "      <td>1847.000000</td>\n",
       "      <td>1810.099976</td>\n",
       "      <td>1829.079956</td>\n",
       "      <td>1.296530e+09</td>\n",
       "    </tr>\n",
       "    <tr>\n",
       "      <th>25%</th>\n",
       "      <td>2017-02-12 06:00:00</td>\n",
       "      <td>2308.957520</td>\n",
       "      <td>2317.192505</td>\n",
       "      <td>2295.190063</td>\n",
       "      <td>2307.132568</td>\n",
       "      <td>3.415900e+09</td>\n",
       "    </tr>\n",
       "    <tr>\n",
       "      <th>50%</th>\n",
       "      <td>2019-07-10 12:00:00</td>\n",
       "      <td>2896.905029</td>\n",
       "      <td>2906.540039</td>\n",
       "      <td>2880.200073</td>\n",
       "      <td>2889.294922</td>\n",
       "      <td>3.819815e+09</td>\n",
       "    </tr>\n",
       "    <tr>\n",
       "      <th>75%</th>\n",
       "      <td>2021-12-01 06:00:00</td>\n",
       "      <td>4040.439941</td>\n",
       "      <td>4070.400024</td>\n",
       "      <td>4002.970032</td>\n",
       "      <td>4034.367554</td>\n",
       "      <td>4.351965e+09</td>\n",
       "    </tr>\n",
       "    <tr>\n",
       "      <th>max</th>\n",
       "      <td>2024-05-01 00:00:00</td>\n",
       "      <td>5257.970215</td>\n",
       "      <td>5264.850098</td>\n",
       "      <td>5245.819824</td>\n",
       "      <td>5254.350098</td>\n",
       "      <td>9.976520e+09</td>\n",
       "    </tr>\n",
       "    <tr>\n",
       "      <th>std</th>\n",
       "      <td>NaN</td>\n",
       "      <td>933.324421</td>\n",
       "      <td>938.937843</td>\n",
       "      <td>927.794431</td>\n",
       "      <td>933.662005</td>\n",
       "      <td>9.599643e+08</td>\n",
       "    </tr>\n",
       "  </tbody>\n",
       "</table>\n",
       "</div>"
      ],
      "text/plain": [
       "                                Date         Open         High          Low  \\\n",
       "count                           2420  2420.000000  2420.000000  2420.000000   \n",
       "mean   2019-07-09 02:14:28.760330752  3156.348093  3173.444873  3138.007967   \n",
       "min              2014-09-18 00:00:00  1833.400024  1847.000000  1810.099976   \n",
       "25%              2017-02-12 06:00:00  2308.957520  2317.192505  2295.190063   \n",
       "50%              2019-07-10 12:00:00  2896.905029  2906.540039  2880.200073   \n",
       "75%              2021-12-01 06:00:00  4040.439941  4070.400024  4002.970032   \n",
       "max              2024-05-01 00:00:00  5257.970215  5264.850098  5245.819824   \n",
       "std                              NaN   933.324421   938.937843   927.794431   \n",
       "\n",
       "             Close        Volume  \n",
       "count  2420.000000  2.420000e+03  \n",
       "mean   3156.856128  4.006299e+09  \n",
       "min    1829.079956  1.296530e+09  \n",
       "25%    2307.132568  3.415900e+09  \n",
       "50%    2889.294922  3.819815e+09  \n",
       "75%    4034.367554  4.351965e+09  \n",
       "max    5254.350098  9.976520e+09  \n",
       "std     933.662005  9.599643e+08  "
      ]
     },
     "execution_count": 8,
     "metadata": {},
     "output_type": "execute_result"
    }
   ],
   "source": [
    "sp500_data.describe()"
   ]
  },
  {
   "cell_type": "markdown",
   "metadata": {},
   "source": [
    "Temporal Integrity"
   ]
  },
  {
   "cell_type": "code",
   "execution_count": 9,
   "metadata": {},
   "outputs": [
    {
     "name": "stdout",
     "output_type": "stream",
     "text": [
      "Gaps in btc_data: \n",
      " Date\n",
      "1.0    1895\n",
      "3.0     434\n",
      "4.0      68\n",
      "2.0      22\n",
      "Name: count, dtype: int64\n",
      "Gaps in sp500_data: \n",
      " Date\n",
      "1.0    1895\n",
      "3.0     434\n",
      "4.0      68\n",
      "2.0      22\n",
      "Name: count, dtype: int64\n"
     ]
    }
   ],
   "source": [
    "btc_gaps = btc_data['Date'].diff().dt.days.value_counts()\n",
    "sp500_gaps = sp500_data['Date'].diff().dt.days.value_counts()\n",
    "\n",
    "print(f\"Gaps in btc_data: \\n\", btc_gaps)\n",
    "print(f\"Gaps in sp500_data: \\n\", sp500_gaps)\n",
    "# With this we can make sure both datasets have the same ranges for the dates"
   ]
  },
  {
   "cell_type": "code",
   "execution_count": null,
   "metadata": {},
   "outputs": [],
   "source": []
  }
 ],
 "metadata": {
  "kernelspec": {
   "display_name": ".venv",
   "language": "python",
   "name": "python3"
  },
  "language_info": {
   "codemirror_mode": {
    "name": "ipython",
    "version": 3
   },
   "file_extension": ".py",
   "mimetype": "text/x-python",
   "name": "python",
   "nbconvert_exporter": "python",
   "pygments_lexer": "ipython3",
   "version": "3.12.7"
  }
 },
 "nbformat": 4,
 "nbformat_minor": 2
}
