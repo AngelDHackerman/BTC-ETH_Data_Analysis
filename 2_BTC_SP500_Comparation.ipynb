{
 "cells": [
  {
   "cell_type": "markdown",
   "metadata": {},
   "source": [
    "### Objective\n",
    "\n",
    "This notebook aims to identify and handle outliers in the datasets for Bitcoin (BTC) and the S&P 500 (SP500). Key steps include:\n",
    "\n",
    "1. Using the Interquartile Range (IQR) method to detect outliers in the \"Close\" column for both datasets.\n",
    "2. Visualizing the distributions of the \"Close\" prices with boxplots to confirm the presence of outliers.\n",
    "\n",
    "This process ensures that the datasets are clean, consistent, and free from extreme values that might bias the results of the comparative study."
   ]
  },
  {
   "cell_type": "code",
   "execution_count": 3,
   "metadata": {},
   "outputs": [],
   "source": [
    "import pandas as pd\n",
    "import matplotlib.pyplot as plt"
   ]
  },
  {
   "cell_type": "code",
   "execution_count": 4,
   "metadata": {},
   "outputs": [],
   "source": [
    "btc_data = pd.read_csv('./Data/raw_data_but_cleaned/BTC_combined_2014_2024.csv')\n",
    "sp500_data = pd.read_csv('./Data/raw_data_but_cleaned/sp500_data_filtered.csv')\n",
    "\n",
    "# Convert the Date column into datetime64 type for both tables\n",
    "btc_data['Date'] = pd.to_datetime(btc_data['Date'])\n",
    "sp500_data['Date'] = pd.to_datetime(sp500_data['Date'])"
   ]
  },
  {
   "cell_type": "code",
   "execution_count": 5,
   "metadata": {},
   "outputs": [
    {
     "name": "stdout",
     "output_type": "stream",
     "text": [
      "BTC date range: 2014-09-18 00:00:00 to 2024-05-01 00:00:00\n",
      "S&P 500 Date Rage: 2014-09-18 00:00:00 to 2024-05-01 00:00:00\n"
     ]
    }
   ],
   "source": [
    "# Rage date for BTC \n",
    "print(\"BTC date range:\", btc_data['Date'].min(), \"to\", btc_data['Date'].max())\n",
    "\n",
    "# Rage date for S&P 500\n",
    "print(\"S&P 500 Date Rage:\", sp500_data['Date'].min(), \"to\", sp500_data['Date'].max())"
   ]
  },
  {
   "cell_type": "markdown",
   "metadata": {},
   "source": [
    "Checking missing dates in both datasets"
   ]
  },
  {
   "cell_type": "code",
   "execution_count": 6,
   "metadata": {},
   "outputs": [],
   "source": [
    "# Getting dates from BTC and S&P 500 datasets\n",
    "btc_dates = pd.to_datetime(btc_data['Date'])\n",
    "sp500_dates = pd.to_datetime(sp500_data['Date'])"
   ]
  },
  {
   "cell_type": "markdown",
   "metadata": {},
   "source": [
    "Filter the BTC dataset in order to match with the S&P 500 dataset dates"
   ]
  },
  {
   "cell_type": "code",
   "execution_count": 7,
   "metadata": {},
   "outputs": [],
   "source": [
    "common_dates = sp500_data['Date'] \n",
    "btc_data = btc_data[btc_data['Date'].isin(common_dates)] # filter btc_data with the common dates with sp500_dates"
   ]
  },
  {
   "cell_type": "code",
   "execution_count": 8,
   "metadata": {},
   "outputs": [],
   "source": [
    "btc_data.reset_index(drop=True, inplace=True)\n",
    "sp500_data.reset_index(drop=True, inplace=True)"
   ]
  },
  {
   "cell_type": "code",
   "execution_count": 9,
   "metadata": {},
   "outputs": [
    {
     "data": {
      "text/html": [
       "<div>\n",
       "<style scoped>\n",
       "    .dataframe tbody tr th:only-of-type {\n",
       "        vertical-align: middle;\n",
       "    }\n",
       "\n",
       "    .dataframe tbody tr th {\n",
       "        vertical-align: top;\n",
       "    }\n",
       "\n",
       "    .dataframe thead th {\n",
       "        text-align: right;\n",
       "    }\n",
       "</style>\n",
       "<table border=\"1\" class=\"dataframe\">\n",
       "  <thead>\n",
       "    <tr style=\"text-align: right;\">\n",
       "      <th></th>\n",
       "      <th>Date</th>\n",
       "      <th>Open</th>\n",
       "      <th>High</th>\n",
       "      <th>Low</th>\n",
       "      <th>Close</th>\n",
       "      <th>Adj Close</th>\n",
       "      <th>Volume</th>\n",
       "    </tr>\n",
       "  </thead>\n",
       "  <tbody>\n",
       "    <tr>\n",
       "      <th>0</th>\n",
       "      <td>2014-09-18</td>\n",
       "      <td>456.859985</td>\n",
       "      <td>456.859985</td>\n",
       "      <td>413.104004</td>\n",
       "      <td>424.440002</td>\n",
       "      <td>424.440002</td>\n",
       "      <td>3.448320e+07</td>\n",
       "    </tr>\n",
       "    <tr>\n",
       "      <th>1</th>\n",
       "      <td>2014-09-19</td>\n",
       "      <td>424.102997</td>\n",
       "      <td>427.834991</td>\n",
       "      <td>384.532013</td>\n",
       "      <td>394.795990</td>\n",
       "      <td>394.795990</td>\n",
       "      <td>3.791970e+07</td>\n",
       "    </tr>\n",
       "    <tr>\n",
       "      <th>2</th>\n",
       "      <td>2014-09-22</td>\n",
       "      <td>399.100006</td>\n",
       "      <td>406.915985</td>\n",
       "      <td>397.130005</td>\n",
       "      <td>402.152008</td>\n",
       "      <td>402.152008</td>\n",
       "      <td>2.412760e+07</td>\n",
       "    </tr>\n",
       "    <tr>\n",
       "      <th>3</th>\n",
       "      <td>2014-09-23</td>\n",
       "      <td>402.092010</td>\n",
       "      <td>441.557007</td>\n",
       "      <td>396.196991</td>\n",
       "      <td>435.790985</td>\n",
       "      <td>435.790985</td>\n",
       "      <td>4.509950e+07</td>\n",
       "    </tr>\n",
       "    <tr>\n",
       "      <th>4</th>\n",
       "      <td>2014-09-24</td>\n",
       "      <td>435.751007</td>\n",
       "      <td>436.112000</td>\n",
       "      <td>421.131989</td>\n",
       "      <td>423.204987</td>\n",
       "      <td>423.204987</td>\n",
       "      <td>3.062770e+07</td>\n",
       "    </tr>\n",
       "    <tr>\n",
       "      <th>...</th>\n",
       "      <td>...</td>\n",
       "      <td>...</td>\n",
       "      <td>...</td>\n",
       "      <td>...</td>\n",
       "      <td>...</td>\n",
       "      <td>...</td>\n",
       "      <td>...</td>\n",
       "    </tr>\n",
       "    <tr>\n",
       "      <th>2415</th>\n",
       "      <td>2024-04-24</td>\n",
       "      <td>66408.718750</td>\n",
       "      <td>67075.367188</td>\n",
       "      <td>63589.871094</td>\n",
       "      <td>64276.898438</td>\n",
       "      <td>64276.898438</td>\n",
       "      <td>3.027666e+10</td>\n",
       "    </tr>\n",
       "    <tr>\n",
       "      <th>2416</th>\n",
       "      <td>2024-04-25</td>\n",
       "      <td>64275.019531</td>\n",
       "      <td>65275.207031</td>\n",
       "      <td>62783.632813</td>\n",
       "      <td>64481.707031</td>\n",
       "      <td>64481.707031</td>\n",
       "      <td>3.215579e+10</td>\n",
       "    </tr>\n",
       "    <tr>\n",
       "      <th>2417</th>\n",
       "      <td>2024-04-26</td>\n",
       "      <td>64485.371094</td>\n",
       "      <td>64789.656250</td>\n",
       "      <td>63322.398438</td>\n",
       "      <td>63755.320313</td>\n",
       "      <td>63755.320313</td>\n",
       "      <td>2.413937e+10</td>\n",
       "    </tr>\n",
       "    <tr>\n",
       "      <th>2418</th>\n",
       "      <td>2024-04-29</td>\n",
       "      <td>63106.363281</td>\n",
       "      <td>64174.878906</td>\n",
       "      <td>61795.457031</td>\n",
       "      <td>63841.121094</td>\n",
       "      <td>63841.121094</td>\n",
       "      <td>2.663591e+10</td>\n",
       "    </tr>\n",
       "    <tr>\n",
       "      <th>2419</th>\n",
       "      <td>2024-05-01</td>\n",
       "      <td>60612.921875</td>\n",
       "      <td>60708.449219</td>\n",
       "      <td>59546.796875</td>\n",
       "      <td>59546.796875</td>\n",
       "      <td>59546.796875</td>\n",
       "      <td>3.746397e+10</td>\n",
       "    </tr>\n",
       "  </tbody>\n",
       "</table>\n",
       "<p>2420 rows × 7 columns</p>\n",
       "</div>"
      ],
      "text/plain": [
       "           Date          Open          High           Low         Close  \\\n",
       "0    2014-09-18    456.859985    456.859985    413.104004    424.440002   \n",
       "1    2014-09-19    424.102997    427.834991    384.532013    394.795990   \n",
       "2    2014-09-22    399.100006    406.915985    397.130005    402.152008   \n",
       "3    2014-09-23    402.092010    441.557007    396.196991    435.790985   \n",
       "4    2014-09-24    435.751007    436.112000    421.131989    423.204987   \n",
       "...         ...           ...           ...           ...           ...   \n",
       "2415 2024-04-24  66408.718750  67075.367188  63589.871094  64276.898438   \n",
       "2416 2024-04-25  64275.019531  65275.207031  62783.632813  64481.707031   \n",
       "2417 2024-04-26  64485.371094  64789.656250  63322.398438  63755.320313   \n",
       "2418 2024-04-29  63106.363281  64174.878906  61795.457031  63841.121094   \n",
       "2419 2024-05-01  60612.921875  60708.449219  59546.796875  59546.796875   \n",
       "\n",
       "         Adj Close        Volume  \n",
       "0       424.440002  3.448320e+07  \n",
       "1       394.795990  3.791970e+07  \n",
       "2       402.152008  2.412760e+07  \n",
       "3       435.790985  4.509950e+07  \n",
       "4       423.204987  3.062770e+07  \n",
       "...            ...           ...  \n",
       "2415  64276.898438  3.027666e+10  \n",
       "2416  64481.707031  3.215579e+10  \n",
       "2417  63755.320313  2.413937e+10  \n",
       "2418  63841.121094  2.663591e+10  \n",
       "2419  59546.796875  3.746397e+10  \n",
       "\n",
       "[2420 rows x 7 columns]"
      ]
     },
     "execution_count": 9,
     "metadata": {},
     "output_type": "execute_result"
    }
   ],
   "source": [
    "btc_data"
   ]
  },
  {
   "cell_type": "code",
   "execution_count": 10,
   "metadata": {},
   "outputs": [
    {
     "data": {
      "text/html": [
       "<div>\n",
       "<style scoped>\n",
       "    .dataframe tbody tr th:only-of-type {\n",
       "        vertical-align: middle;\n",
       "    }\n",
       "\n",
       "    .dataframe tbody tr th {\n",
       "        vertical-align: top;\n",
       "    }\n",
       "\n",
       "    .dataframe thead th {\n",
       "        text-align: right;\n",
       "    }\n",
       "</style>\n",
       "<table border=\"1\" class=\"dataframe\">\n",
       "  <thead>\n",
       "    <tr style=\"text-align: right;\">\n",
       "      <th></th>\n",
       "      <th>Date</th>\n",
       "      <th>Open</th>\n",
       "      <th>High</th>\n",
       "      <th>Low</th>\n",
       "      <th>Close</th>\n",
       "      <th>Volume</th>\n",
       "    </tr>\n",
       "  </thead>\n",
       "  <tbody>\n",
       "    <tr>\n",
       "      <th>0</th>\n",
       "      <td>2014-09-18</td>\n",
       "      <td>2003.069946</td>\n",
       "      <td>2012.339966</td>\n",
       "      <td>2003.069946</td>\n",
       "      <td>2011.359985</td>\n",
       "      <td>3235340000</td>\n",
       "    </tr>\n",
       "    <tr>\n",
       "      <th>1</th>\n",
       "      <td>2014-09-19</td>\n",
       "      <td>2012.739990</td>\n",
       "      <td>2019.260010</td>\n",
       "      <td>2006.589966</td>\n",
       "      <td>2010.400024</td>\n",
       "      <td>4880220000</td>\n",
       "    </tr>\n",
       "    <tr>\n",
       "      <th>2</th>\n",
       "      <td>2014-09-22</td>\n",
       "      <td>2009.079956</td>\n",
       "      <td>2009.079956</td>\n",
       "      <td>1991.010010</td>\n",
       "      <td>1994.290039</td>\n",
       "      <td>3349670000</td>\n",
       "    </tr>\n",
       "    <tr>\n",
       "      <th>3</th>\n",
       "      <td>2014-09-23</td>\n",
       "      <td>1992.780029</td>\n",
       "      <td>1995.410034</td>\n",
       "      <td>1982.770020</td>\n",
       "      <td>1982.770020</td>\n",
       "      <td>3279350000</td>\n",
       "    </tr>\n",
       "    <tr>\n",
       "      <th>4</th>\n",
       "      <td>2014-09-24</td>\n",
       "      <td>1983.339966</td>\n",
       "      <td>1999.790039</td>\n",
       "      <td>1978.630005</td>\n",
       "      <td>1998.300049</td>\n",
       "      <td>3313850000</td>\n",
       "    </tr>\n",
       "    <tr>\n",
       "      <th>...</th>\n",
       "      <td>...</td>\n",
       "      <td>...</td>\n",
       "      <td>...</td>\n",
       "      <td>...</td>\n",
       "      <td>...</td>\n",
       "      <td>...</td>\n",
       "    </tr>\n",
       "    <tr>\n",
       "      <th>2416</th>\n",
       "      <td>2024-04-25</td>\n",
       "      <td>5019.879883</td>\n",
       "      <td>5057.750000</td>\n",
       "      <td>4990.580078</td>\n",
       "      <td>5048.419922</td>\n",
       "      <td>3958050000</td>\n",
       "    </tr>\n",
       "    <tr>\n",
       "      <th>2417</th>\n",
       "      <td>2024-04-26</td>\n",
       "      <td>5084.649902</td>\n",
       "      <td>5114.620117</td>\n",
       "      <td>5073.140137</td>\n",
       "      <td>5099.959961</td>\n",
       "      <td>3604140000</td>\n",
       "    </tr>\n",
       "    <tr>\n",
       "      <th>2418</th>\n",
       "      <td>2024-04-29</td>\n",
       "      <td>5114.129883</td>\n",
       "      <td>5123.490234</td>\n",
       "      <td>5088.649902</td>\n",
       "      <td>5116.169922</td>\n",
       "      <td>3447450000</td>\n",
       "    </tr>\n",
       "    <tr>\n",
       "      <th>2419</th>\n",
       "      <td>2024-04-30</td>\n",
       "      <td>5103.779785</td>\n",
       "      <td>5110.830078</td>\n",
       "      <td>5035.310059</td>\n",
       "      <td>5035.689941</td>\n",
       "      <td>4082470000</td>\n",
       "    </tr>\n",
       "    <tr>\n",
       "      <th>2420</th>\n",
       "      <td>2024-05-01</td>\n",
       "      <td>5029.029785</td>\n",
       "      <td>5096.120117</td>\n",
       "      <td>5013.450195</td>\n",
       "      <td>5018.390137</td>\n",
       "      <td>4544170000</td>\n",
       "    </tr>\n",
       "  </tbody>\n",
       "</table>\n",
       "<p>2421 rows × 6 columns</p>\n",
       "</div>"
      ],
      "text/plain": [
       "           Date         Open         High          Low        Close  \\\n",
       "0    2014-09-18  2003.069946  2012.339966  2003.069946  2011.359985   \n",
       "1    2014-09-19  2012.739990  2019.260010  2006.589966  2010.400024   \n",
       "2    2014-09-22  2009.079956  2009.079956  1991.010010  1994.290039   \n",
       "3    2014-09-23  1992.780029  1995.410034  1982.770020  1982.770020   \n",
       "4    2014-09-24  1983.339966  1999.790039  1978.630005  1998.300049   \n",
       "...         ...          ...          ...          ...          ...   \n",
       "2416 2024-04-25  5019.879883  5057.750000  4990.580078  5048.419922   \n",
       "2417 2024-04-26  5084.649902  5114.620117  5073.140137  5099.959961   \n",
       "2418 2024-04-29  5114.129883  5123.490234  5088.649902  5116.169922   \n",
       "2419 2024-04-30  5103.779785  5110.830078  5035.310059  5035.689941   \n",
       "2420 2024-05-01  5029.029785  5096.120117  5013.450195  5018.390137   \n",
       "\n",
       "          Volume  \n",
       "0     3235340000  \n",
       "1     4880220000  \n",
       "2     3349670000  \n",
       "3     3279350000  \n",
       "4     3313850000  \n",
       "...          ...  \n",
       "2416  3958050000  \n",
       "2417  3604140000  \n",
       "2418  3447450000  \n",
       "2419  4082470000  \n",
       "2420  4544170000  \n",
       "\n",
       "[2421 rows x 6 columns]"
      ]
     },
     "execution_count": 10,
     "metadata": {},
     "output_type": "execute_result"
    }
   ],
   "source": [
    "sp500_data"
   ]
  },
  {
   "cell_type": "markdown",
   "metadata": {},
   "source": [
    "1 date is missing in order to match both datasets, fixing that now"
   ]
  },
  {
   "cell_type": "code",
   "execution_count": 11,
   "metadata": {},
   "outputs": [
    {
     "name": "stdout",
     "output_type": "stream",
     "text": [
      "missing in btc_data:\n",
      "            Date         Open         High          Low        Close  \\\n",
      "2419 2024-04-30  5103.779785  5110.830078  5035.310059  5035.689941   \n",
      "\n",
      "          Volume  \n",
      "2419  4082470000   \n",
      "\n",
      "missing in sp500_data:\n",
      " Empty DataFrame\n",
      "Columns: [Date, Open, High, Low, Close, Adj Close, Volume]\n",
      "Index: [] \n",
      "\n"
     ]
    }
   ],
   "source": [
    "# Find the dates that sp500_data has but btc_data dont'\n",
    "missing_in_btc = sp500_data[~sp500_data['Date'].isin(btc_data['Date'])]\n",
    "\n",
    "# Find the dates that btc_data has but sp500_data don't\n",
    "missing_in_sp500 = btc_data[~btc_data['Date'].isin(sp500_data['Date'])]\n",
    "\n",
    "print(f\"missing in btc_data:\\n {missing_in_btc} \\n\")\n",
    "print(f\"missing in sp500_data:\\n {missing_in_sp500} \\n\")"
   ]
  },
  {
   "cell_type": "markdown",
   "metadata": {},
   "source": [
    "Removing the missing date, removed from sp500_data in order to make both datasets match"
   ]
  },
  {
   "cell_type": "code",
   "execution_count": 12,
   "metadata": {},
   "outputs": [
    {
     "name": "stdout",
     "output_type": "stream",
     "text": [
      "missing in btc_data:\n",
      " Empty DataFrame\n",
      "Columns: [Date, Open, High, Low, Close, Volume]\n",
      "Index: [] \n",
      "\n"
     ]
    }
   ],
   "source": [
    "sp500_data = sp500_data[sp500_data['Date'] != '2024-04-30']\n",
    "\n",
    "# reset index in both datasets\n",
    "btc_data.reset_index(drop=True, inplace=True)\n",
    "sp500_data.reset_index(drop=True, inplace=True)\n",
    "\n",
    "# Find the dates that sp500_data has but btc_data dont'\n",
    "missing_in_btc = sp500_data[~sp500_data['Date'].isin(btc_data['Date'])]\n",
    "\n",
    "print(f\"missing in btc_data:\\n {missing_in_btc} \\n\")"
   ]
  },
  {
   "cell_type": "markdown",
   "metadata": {},
   "source": [
    "Making sure no duplicated or null values are in the datasets"
   ]
  },
  {
   "cell_type": "code",
   "execution_count": 13,
   "metadata": {},
   "outputs": [
    {
     "name": "stdout",
     "output_type": "stream",
     "text": [
      "Date         0\n",
      "Open         0\n",
      "High         0\n",
      "Low          0\n",
      "Close        0\n",
      "Adj Close    0\n",
      "Volume       0\n",
      "dtype: int64 \n",
      "\n",
      "Date      0\n",
      "Open      0\n",
      "High      0\n",
      "Low       0\n",
      "Close     0\n",
      "Volume    0\n",
      "dtype: int64 \n",
      "\n",
      "0 \n",
      "\n",
      "0 \n",
      "\n"
     ]
    }
   ],
   "source": [
    "print(btc_data.isnull().sum(),'\\n')\n",
    "print(sp500_data.isnull().sum(),'\\n')\n",
    "print(btc_data.duplicated().sum(),'\\n')\n",
    "print(sp500_data.duplicated().sum(),'\\n')"
   ]
  },
  {
   "cell_type": "markdown",
   "metadata": {},
   "source": [
    "Descriptive Analisis"
   ]
  },
  {
   "cell_type": "code",
   "execution_count": 14,
   "metadata": {},
   "outputs": [
    {
     "name": "stdout",
     "output_type": "stream",
     "text": [
      "                                Date          Open          High  \\\n",
      "count                           2420   2420.000000   2420.000000   \n",
      "mean   2019-07-09 02:14:28.760330752  16025.704048  16435.798946   \n",
      "min              2014-09-18 00:00:00    176.897003    215.240997   \n",
      "25%              2017-02-12 06:00:00   1026.510010   1046.707550   \n",
      "50%              2019-07-10 12:00:00   8705.449219   8875.632812   \n",
      "75%              2021-12-01 06:00:00  26887.815918  27335.662598   \n",
      "max              2024-05-01 00:00:00  73079.375000  73750.070313   \n",
      "std                              NaN  17803.837508  18272.309272   \n",
      "\n",
      "                Low         Close     Adj Close        Volume  \n",
      "count   2420.000000   2420.000000   2420.000000  2.420000e+03  \n",
      "mean   15581.727054  16039.567219  16039.567219  1.839613e+10  \n",
      "min      171.509995    178.102997    178.102997  7.845880e+06  \n",
      "25%     1008.504989   1029.292511   1029.292511  2.364240e+08  \n",
      "50%     8424.935058   8712.442383   8712.442383  1.443086e+10  \n",
      "75%    26415.205078  26877.522461  26877.522461  3.022172e+10  \n",
      "max    71334.093750  73083.500000  73083.500000  3.509679e+11  \n",
      "std    17272.649419  17807.449450  17807.449450  2.053435e+10   \n",
      "\n",
      "                                Date         Open         High          Low  \\\n",
      "count                           2420  2420.000000  2420.000000  2420.000000   \n",
      "mean   2019-07-09 02:14:28.760330752  3156.348093  3173.444873  3138.007967   \n",
      "min              2014-09-18 00:00:00  1833.400024  1847.000000  1810.099976   \n",
      "25%              2017-02-12 06:00:00  2308.957520  2317.192505  2295.190063   \n",
      "50%              2019-07-10 12:00:00  2896.905029  2906.540039  2880.200073   \n",
      "75%              2021-12-01 06:00:00  4040.439941  4070.400024  4002.970032   \n",
      "max              2024-05-01 00:00:00  5257.970215  5264.850098  5245.819824   \n",
      "std                              NaN   933.324421   938.937843   927.794431   \n",
      "\n",
      "             Close        Volume  \n",
      "count  2420.000000  2.420000e+03  \n",
      "mean   3156.856128  4.006299e+09  \n",
      "min    1829.079956  1.296530e+09  \n",
      "25%    2307.132568  3.415900e+09  \n",
      "50%    2889.294922  3.819815e+09  \n",
      "75%    4034.367554  4.351965e+09  \n",
      "max    5254.350098  9.976520e+09  \n",
      "std     933.662005  9.599643e+08  \n"
     ]
    }
   ],
   "source": [
    "print(btc_data.describe(),'\\n')\n",
    "print(sp500_data.describe())"
   ]
  },
  {
   "cell_type": "markdown",
   "metadata": {},
   "source": [
    "Looking for Outliers in IQR"
   ]
  },
  {
   "cell_type": "code",
   "execution_count": 15,
   "metadata": {},
   "outputs": [],
   "source": [
    "# Function for dectect outlier values using IQR\n",
    "def detect_outliers_iqr(data, column):\n",
    "  Q1 = data[column].quantile(0.25) # First quarter\n",
    "  Q3 = data[column].quantile(0.75) # Third quarter\n",
    "  IQR = Q3 - Q1 # Interquarter Range\n",
    "  lower_bound = Q1 - 1.5 * IQR\n",
    "  upper_bound = Q3 + 1.5 * IQR\n",
    "  \n",
    "  # Filter outlier values\n",
    "  outliers = data[(data[column] < lower_bound) | (data[column] > upper_bound)]\n",
    "  print(f\"Outlier values found in {column}: {len(outliers)}\")\n",
    "  return outliers, lower_bound, upper_bound"
   ]
  },
  {
   "cell_type": "code",
   "execution_count": null,
   "metadata": {},
   "outputs": [
    {
     "name": "stdout",
     "output_type": "stream",
     "text": [
      "Outlier values found in Close: 29\n",
      "Outlier values found in Close: 0\n"
     ]
    }
   ],
   "source": [
    "# Detect the outliers in close prices (Close)\n",
    "btc_outliers, btc_lower, btc_upper = detect_outliers_iqr(btc_data, 'Close')\n",
    "sp500_outliers, sp500_lower, sp500_upper = detect_outliers_iqr(sp500_data, 'Close')"
   ]
  },
  {
   "cell_type": "markdown",
   "metadata": {},
   "source": [
    "Visualize the outliers with Boxplot graphs"
   ]
  },
  {
   "cell_type": "code",
   "execution_count": 18,
   "metadata": {},
   "outputs": [
    {
     "data": {
      "image/png": "[encoded data removed]",
      "text/plain": [
       "<Figure size 1400x600 with 2 Axes>"
      ]
     },
     "metadata": {},
     "output_type": "display_data"
    }
   ],
   "source": [
    "# BTC visualization\n",
    "plt.figure(figsize=(14, 6))\n",
    "plt.subplot(1, 2, 1)\n",
    "btc_data['Close'].plot(kind='box')\n",
    "plt.title(\"Boxplot for Bitcoin closing prices\")\n",
    "plt.ylabel(\"Closing price (USD)\")\n",
    "\n",
    "# S&P 500 visualization\n",
    "plt.subplot(1, 2, 2)\n",
    "sp500_data['Close'].plot(kind='box')\n",
    "plt.title(\"Boxplot for S&P 500 closing prices\")\n",
    "plt.ylabel(\"Closing Price (USD)\")\n",
    "\n",
    "plt.tight_layout()\n",
    "plt.show()"
   ]
  },
  {
   "cell_type": "markdown",
   "metadata": {},
   "source": [
    "Exporting the new datasets cleaned and aligned to new CSV files"
   ]
  },
  {
   "cell_type": "code",
   "execution_count": 17,
   "metadata": {},
   "outputs": [],
   "source": [
    "btc_data.to_csv('./Data/btc_data_aligned_with_sp500.csv', index=False)\n",
    "sp500_data.to_csv('./Data/sp500_data_aligned_with_btc_data.csv', index=False)"
   ]
  },
  {
   "cell_type": "markdown",
   "metadata": {},
   "source": [
    "### Observations\n",
    "\n",
    "- Outliers were detected in the \"Close\" prices of both Bitcoin and the S&P 500 datasets using the Interquartile Range (IQR) method.\n",
    "- Visual inspection with boxplots revealed the presence of extreme values beyond the whiskers, confirming the statistical findings.\n",
    "- Removing outliers is optional and depends on the goal of the analysis:\n",
    "  - Retaining outliers could highlight interesting market behaviors during extreme events (e.g., crashes or spikes).\n",
    "  - Removing outliers ensures that the analysis focuses on typical market behavior, reducing the potential for skewed results.\n",
    "- The datasets are now ready for further analysis, whether including or excluding outliers.\n"
   ]
  }
 ],
 "metadata": {
  "kernelspec": {
   "display_name": ".venv",
   "language": "python",
   "name": "python3"
  },
  "language_info": {
   "codemirror_mode": {
    "name": "ipython",
    "version": 3
   },
   "file_extension": ".py",
   "mimetype": "text/x-python",
   "name": "python",
   "nbconvert_exporter": "python",
   "pygments_lexer": "ipython3",
   "version": "3.12.7"
  }
 },
 "nbformat": 4,
 "nbformat_minor": 2
}
