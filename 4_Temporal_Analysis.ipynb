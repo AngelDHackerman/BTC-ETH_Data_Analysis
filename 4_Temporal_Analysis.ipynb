{
 "cells": [
  {
   "cell_type": "markdown",
   "metadata": {},
   "source": [
    "Visualization of Temporal Series"
   ]
  },
  {
   "cell_type": "code",
   "execution_count": 3,
   "metadata": {},
   "outputs": [],
   "source": [
    "import matplotlib.pyplot as plt\n",
    "import pandas as pd\n",
    "\n",
    "btc_data = pd.read_csv('./Data/btc_data_aligned_with_sp500.csv', encoding='cp1252')\n",
    "sp500_data = pd.read_csv('./Data/sp500_data_aligned_with_btc_data.csv', encoding='cp1252')\n",
    "\n",
    "btc_data['Date'] = pd.to_datetime(btc_data['Date'])\n",
    "sp500_data['Date'] = pd.to_datetime(sp500_data['Date'])"
   ]
  },
  {
   "cell_type": "code",
   "execution_count": 5,
   "metadata": {},
   "outputs": [
    {
     "name": "stdout",
     "output_type": "stream",
     "text": [
      "<class 'pandas.core.frame.DataFrame'>\n",
      "RangeIndex: 2420 entries, 0 to 2419\n",
      "Data columns (total 6 columns):\n",
      " #   Column  Non-Null Count  Dtype         \n",
      "---  ------  --------------  -----         \n",
      " 0   Date    2420 non-null   datetime64[ns]\n",
      " 1   Open    2420 non-null   float64       \n",
      " 2   High    2420 non-null   float64       \n",
      " 3   Low     2420 non-null   float64       \n",
      " 4   Close   2420 non-null   float64       \n",
      " 5   Volume  2420 non-null   int64         \n",
      "dtypes: datetime64[ns](1), float64(4), int64(1)\n",
      "memory usage: 113.6 KB\n"
     ]
    }
   ],
   "source": [
    "sp500_data.info()"
   ]
  },
  {
   "cell_type": "markdown",
   "metadata": {},
   "source": [
    "Merging Data sets"
   ]
  },
  {
   "cell_type": "code",
   "execution_count": 7,
   "metadata": {},
   "outputs": [],
   "source": [
    "# Rename the 'Close' columns for clarity\n",
    "btc_data.rename(columns={\"Close\": \"BTC_Price\"}, inplace=True)\n",
    "sp500_data.rename(columns={\"Close\": \"SP500_Price\"}, inplace=True)"
   ]
  },
  {
   "cell_type": "code",
   "execution_count": 8,
   "metadata": {},
   "outputs": [],
   "source": [
    "# Merge the datasets based on the Date column\n",
    "merged_data = pd.merge(btc_data[['Date', 'BTC_Price']], sp500_data[['Date', 'SP500_Price']], on=\"Date\")"
   ]
  },
  {
   "cell_type": "code",
   "execution_count": 12,
   "metadata": {},
   "outputs": [],
   "source": [
    "# Set the 'Date' column as the index for easier resampling\n",
    "merged_data.set_index('Date', inplace=True)"
   ]
  },
  {
   "cell_type": "code",
   "execution_count": 13,
   "metadata": {},
   "outputs": [
    {
     "data": {
      "text/html": [
       "<div>\n",
       "<style scoped>\n",
       "    .dataframe tbody tr th:only-of-type {\n",
       "        vertical-align: middle;\n",
       "    }\n",
       "\n",
       "    .dataframe tbody tr th {\n",
       "        vertical-align: top;\n",
       "    }\n",
       "\n",
       "    .dataframe thead th {\n",
       "        text-align: right;\n",
       "    }\n",
       "</style>\n",
       "<table border=\"1\" class=\"dataframe\">\n",
       "  <thead>\n",
       "    <tr style=\"text-align: right;\">\n",
       "      <th></th>\n",
       "      <th>BTC_Price</th>\n",
       "      <th>SP500_Price</th>\n",
       "    </tr>\n",
       "    <tr>\n",
       "      <th>Date</th>\n",
       "      <th></th>\n",
       "      <th></th>\n",
       "    </tr>\n",
       "  </thead>\n",
       "  <tbody>\n",
       "    <tr>\n",
       "      <th>2014-09-18</th>\n",
       "      <td>424.440002</td>\n",
       "      <td>2011.359985</td>\n",
       "    </tr>\n",
       "    <tr>\n",
       "      <th>2014-09-19</th>\n",
       "      <td>394.795990</td>\n",
       "      <td>2010.400024</td>\n",
       "    </tr>\n",
       "    <tr>\n",
       "      <th>2014-09-22</th>\n",
       "      <td>402.152008</td>\n",
       "      <td>1994.290039</td>\n",
       "    </tr>\n",
       "    <tr>\n",
       "      <th>2014-09-23</th>\n",
       "      <td>435.790985</td>\n",
       "      <td>1982.770020</td>\n",
       "    </tr>\n",
       "    <tr>\n",
       "      <th>2014-09-24</th>\n",
       "      <td>423.204987</td>\n",
       "      <td>1998.300049</td>\n",
       "    </tr>\n",
       "    <tr>\n",
       "      <th>...</th>\n",
       "      <td>...</td>\n",
       "      <td>...</td>\n",
       "    </tr>\n",
       "    <tr>\n",
       "      <th>2024-04-24</th>\n",
       "      <td>64276.898438</td>\n",
       "      <td>5071.629883</td>\n",
       "    </tr>\n",
       "    <tr>\n",
       "      <th>2024-04-25</th>\n",
       "      <td>64481.707031</td>\n",
       "      <td>5048.419922</td>\n",
       "    </tr>\n",
       "    <tr>\n",
       "      <th>2024-04-26</th>\n",
       "      <td>63755.320313</td>\n",
       "      <td>5099.959961</td>\n",
       "    </tr>\n",
       "    <tr>\n",
       "      <th>2024-04-29</th>\n",
       "      <td>63841.121094</td>\n",
       "      <td>5116.169922</td>\n",
       "    </tr>\n",
       "    <tr>\n",
       "      <th>2024-05-01</th>\n",
       "      <td>59546.796875</td>\n",
       "      <td>5018.390137</td>\n",
       "    </tr>\n",
       "  </tbody>\n",
       "</table>\n",
       "<p>2420 rows × 2 columns</p>\n",
       "</div>"
      ],
      "text/plain": [
       "               BTC_Price  SP500_Price\n",
       "Date                                 \n",
       "2014-09-18    424.440002  2011.359985\n",
       "2014-09-19    394.795990  2010.400024\n",
       "2014-09-22    402.152008  1994.290039\n",
       "2014-09-23    435.790985  1982.770020\n",
       "2014-09-24    423.204987  1998.300049\n",
       "...                  ...          ...\n",
       "2024-04-24  64276.898438  5071.629883\n",
       "2024-04-25  64481.707031  5048.419922\n",
       "2024-04-26  63755.320313  5099.959961\n",
       "2024-04-29  63841.121094  5116.169922\n",
       "2024-05-01  59546.796875  5018.390137\n",
       "\n",
       "[2420 rows x 2 columns]"
      ]
     },
     "execution_count": 13,
     "metadata": {},
     "output_type": "execute_result"
    }
   ],
   "source": [
    "merged_data"
   ]
  },
  {
   "cell_type": "code",
   "execution_count": 15,
   "metadata": {},
   "outputs": [],
   "source": [
    "# Resample the data to calculate mean prices for different intevals\n",
    "monthly_data = merged_data.resample('ME').mean() # Montlhy average\n",
    "quarterly_data = merged_data.resample('QE').mean() # Quarterly average\n",
    "annual_data = merged_data.resample('YE').mean() # Annual average"
   ]
  },
  {
   "cell_type": "markdown",
   "metadata": {},
   "source": [
    "Plot the results to visualize trends"
   ]
  },
  {
   "cell_type": "code",
   "execution_count": null,
   "metadata": {},
   "outputs": [],
   "source": []
  }
 ],
 "metadata": {
  "kernelspec": {
   "display_name": ".venv",
   "language": "python",
   "name": "python3"
  },
  "language_info": {
   "codemirror_mode": {
    "name": "ipython",
    "version": 3
   },
   "file_extension": ".py",
   "mimetype": "text/x-python",
   "name": "python",
   "nbconvert_exporter": "python",
   "pygments_lexer": "ipython3",
   "version": "3.12.7"
  }
 },
 "nbformat": 4,
 "nbformat_minor": 2
}
