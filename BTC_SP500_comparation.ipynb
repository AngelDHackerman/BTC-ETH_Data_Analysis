{
 "cells": [
  {
   "cell_type": "markdown",
   "metadata": {},
   "source": [
    "Here we will start working both BTC and S&P 500 datasets in order to analyze them together."
   ]
  },
  {
   "cell_type": "code",
   "execution_count": 37,
   "metadata": {},
   "outputs": [],
   "source": [
    "import pandas as pd\n",
    "btc_data = pd.read_csv('./Data/raw_data_but_cleaned/BTC_combined_2014_2024.csv')\n",
    "sp500_data = pd.read_csv('./Data/raw_data_but_cleaned/sp500_data_filtered.csv')\n",
    "\n",
    "# Convert the Date column into datetime64 type for both tables\n",
    "btc_data['Date'] = pd.to_datetime(btc_data['Date'])\n",
    "sp500_data['Date'] = pd.to_datetime(sp500_data['Date'])"
   ]
  },
  {
   "cell_type": "code",
   "execution_count": 38,
   "metadata": {},
   "outputs": [
    {
     "data": {
      "text/html": [
       "<div>\n",
       "<style scoped>\n",
       "    .dataframe tbody tr th:only-of-type {\n",
       "        vertical-align: middle;\n",
       "    }\n",
       "\n",
       "    .dataframe tbody tr th {\n",
       "        vertical-align: top;\n",
       "    }\n",
       "\n",
       "    .dataframe thead th {\n",
       "        text-align: right;\n",
       "    }\n",
       "</style>\n",
       "<table border=\"1\" class=\"dataframe\">\n",
       "  <thead>\n",
       "    <tr style=\"text-align: right;\">\n",
       "      <th></th>\n",
       "      <th>Date</th>\n",
       "      <th>Open</th>\n",
       "      <th>High</th>\n",
       "      <th>Low</th>\n",
       "      <th>Close</th>\n",
       "      <th>Volume</th>\n",
       "    </tr>\n",
       "  </thead>\n",
       "  <tbody>\n",
       "    <tr>\n",
       "      <th>0</th>\n",
       "      <td>2014-09-18</td>\n",
       "      <td>2003.069946</td>\n",
       "      <td>2012.339966</td>\n",
       "      <td>2003.069946</td>\n",
       "      <td>2011.359985</td>\n",
       "      <td>3235340000</td>\n",
       "    </tr>\n",
       "    <tr>\n",
       "      <th>1</th>\n",
       "      <td>2014-09-19</td>\n",
       "      <td>2012.739990</td>\n",
       "      <td>2019.260010</td>\n",
       "      <td>2006.589966</td>\n",
       "      <td>2010.400024</td>\n",
       "      <td>4880220000</td>\n",
       "    </tr>\n",
       "    <tr>\n",
       "      <th>2</th>\n",
       "      <td>2014-09-22</td>\n",
       "      <td>2009.079956</td>\n",
       "      <td>2009.079956</td>\n",
       "      <td>1991.010010</td>\n",
       "      <td>1994.290039</td>\n",
       "      <td>3349670000</td>\n",
       "    </tr>\n",
       "    <tr>\n",
       "      <th>3</th>\n",
       "      <td>2014-09-23</td>\n",
       "      <td>1992.780029</td>\n",
       "      <td>1995.410034</td>\n",
       "      <td>1982.770020</td>\n",
       "      <td>1982.770020</td>\n",
       "      <td>3279350000</td>\n",
       "    </tr>\n",
       "    <tr>\n",
       "      <th>4</th>\n",
       "      <td>2014-09-24</td>\n",
       "      <td>1983.339966</td>\n",
       "      <td>1999.790039</td>\n",
       "      <td>1978.630005</td>\n",
       "      <td>1998.300049</td>\n",
       "      <td>3313850000</td>\n",
       "    </tr>\n",
       "  </tbody>\n",
       "</table>\n",
       "</div>"
      ],
      "text/plain": [
       "        Date         Open         High          Low        Close      Volume\n",
       "0 2014-09-18  2003.069946  2012.339966  2003.069946  2011.359985  3235340000\n",
       "1 2014-09-19  2012.739990  2019.260010  2006.589966  2010.400024  4880220000\n",
       "2 2014-09-22  2009.079956  2009.079956  1991.010010  1994.290039  3349670000\n",
       "3 2014-09-23  1992.780029  1995.410034  1982.770020  1982.770020  3279350000\n",
       "4 2014-09-24  1983.339966  1999.790039  1978.630005  1998.300049  3313850000"
      ]
     },
     "execution_count": 38,
     "metadata": {},
     "output_type": "execute_result"
    }
   ],
   "source": [
    "sp500_data.head()"
   ]
  },
  {
   "cell_type": "code",
   "execution_count": 39,
   "metadata": {},
   "outputs": [
    {
     "name": "stdout",
     "output_type": "stream",
     "text": [
      "BTC date range: 2014-09-18 00:00:00 to 2024-05-01 00:00:00\n",
      "S&P 500 Date Rage: 2014-09-18 00:00:00 to 2024-05-01 00:00:00\n"
     ]
    }
   ],
   "source": [
    "# Rage date for BTC \n",
    "print(\"BTC date range:\", btc_data['Date'].min(), \"to\", btc_data['Date'].max())\n",
    "\n",
    "# Rage date for S&P 500\n",
    "print(\"S&P 500 Date Rage:\", sp500_data['Date'].min(), \"to\", sp500_data['Date'].max())"
   ]
  },
  {
   "cell_type": "markdown",
   "metadata": {},
   "source": [
    "Checking missing dates in both datasets"
   ]
  },
  {
   "cell_type": "code",
   "execution_count": 40,
   "metadata": {},
   "outputs": [],
   "source": [
    "# Getting dates from BTC and S&P 500 datasets\n",
    "btc_dates = pd.to_datetime(btc_data['Date'])\n",
    "sp500_dates = pd.to_datetime(sp500_data['Date'])"
   ]
  },
  {
   "cell_type": "markdown",
   "metadata": {},
   "source": [
    "VOLVER A FILTRAR LAS FECHAS DE BTC PARA QUE SOLO CONTENGA LAS FECHAS DE LUNES A VIERNES"
   ]
  },
  {
   "cell_type": "code",
   "execution_count": 50,
   "metadata": {},
   "outputs": [
    {
     "name": "stdout",
     "output_type": "stream",
     "text": [
      "Missing dates in BTC: DatetimeIndex(['2024-04-30'], dtype='datetime64[ns]', freq='B')\n",
      "Missing dates in S&P500: DatetimeIndex(['2014-11-27', '2014-12-25', '2015-01-01', '2015-01-19',\n",
      "               '2015-02-16', '2015-04-03', '2015-05-25', '2015-07-03',\n",
      "               '2015-09-07', '2015-11-26', '2015-12-25', '2016-01-01',\n",
      "               '2016-01-18', '2016-02-15', '2016-03-25', '2016-05-30',\n",
      "               '2016-07-04', '2016-09-05', '2016-11-24', '2016-12-26',\n",
      "               '2017-01-02', '2017-01-16', '2017-02-20', '2017-04-14',\n",
      "               '2017-05-29', '2017-07-04', '2017-09-04', '2017-11-23',\n",
      "               '2017-12-25', '2018-01-01', '2018-01-15', '2018-02-19',\n",
      "               '2018-03-30', '2018-05-28', '2018-07-04', '2018-09-03',\n",
      "               '2018-11-22', '2018-12-05', '2018-12-25', '2019-01-01',\n",
      "               '2019-01-21', '2019-02-18', '2019-04-19', '2019-05-27',\n",
      "               '2019-07-04', '2019-09-02', '2019-11-28', '2019-12-25',\n",
      "               '2020-01-01', '2020-01-20', '2020-02-17', '2020-04-10',\n",
      "               '2020-05-25', '2020-07-03', '2020-09-07', '2020-11-26',\n",
      "               '2020-12-25', '2021-01-01', '2021-01-18', '2021-02-15',\n",
      "               '2021-04-02', '2021-05-31', '2021-07-05', '2021-09-06',\n",
      "               '2021-11-25', '2021-12-24', '2022-01-17', '2022-02-21',\n",
      "               '2022-04-15', '2022-05-30', '2022-06-20', '2022-07-04',\n",
      "               '2022-09-05', '2022-11-24', '2022-12-26', '2023-01-02',\n",
      "               '2023-01-16', '2023-02-20', '2023-04-07', '2023-05-29',\n",
      "               '2023-06-19', '2023-07-04', '2023-09-04', '2023-11-23',\n",
      "               '2023-12-25', '2024-01-01', '2024-01-15', '2024-02-19',\n",
      "               '2024-03-29'],\n",
      "              dtype='datetime64[ns]', freq=None)\n"
     ]
    }
   ],
   "source": [
    "# Create the full range of dates from the min date until the max date in the BTC dataset\n",
    "start_date = btc_dates.min()\n",
    "end_date = btc_dates.max()\n",
    "full_date_range = pd.date_range(start=start_date, end=end_date, freq='B') # 'B' for business days\n",
    "\n",
    "# Compare the full range of dates \n",
    "missing_dates_btc = full_date_range.difference(btc_dates)\n",
    "missing_dates_sp500 = full_date_range.difference(sp500_dates)\n",
    "\n",
    "print(f\"Missing dates in BTC: {missing_dates_btc}\")\n",
    "print(f\"Missing dates in S&P500: {missing_dates_sp500}\")"
   ]
  },
  {
   "cell_type": "code",
   "execution_count": null,
   "metadata": {},
   "outputs": [
    {
     "name": "stdout",
     "output_type": "stream",
     "text": [
      "Missing dates in BTC: DatetimeIndex(['2024-04-30'], dtype='datetime64[ns]', freq='D')\n",
      "Missing dates in S&P500: DatetimeIndex(['2014-09-20', '2014-09-21', '2014-09-27', '2014-09-28',\n",
      "               '2014-10-04', '2014-10-05', '2014-10-11', '2014-10-12',\n",
      "               '2014-10-18', '2014-10-19',\n",
      "               ...\n",
      "               '2024-03-30', '2024-03-31', '2024-04-06', '2024-04-07',\n",
      "               '2024-04-13', '2024-04-14', '2024-04-20', '2024-04-21',\n",
      "               '2024-04-27', '2024-04-28'],\n",
      "              dtype='datetime64[ns]', length=1093, freq=None)\n"
     ]
    }
   ],
   "source": []
  },
  {
   "cell_type": "code",
   "execution_count": null,
   "metadata": {},
   "outputs": [],
   "source": []
  }
 ],
 "metadata": {
  "kernelspec": {
   "display_name": ".venv",
   "language": "python",
   "name": "python3"
  },
  "language_info": {
   "codemirror_mode": {
    "name": "ipython",
    "version": 3
   },
   "file_extension": ".py",
   "mimetype": "text/x-python",
   "name": "python",
   "nbconvert_exporter": "python",
   "pygments_lexer": "ipython3",
   "version": "3.12.7"
  }
 },
 "nbformat": 4,
 "nbformat_minor": 2
}
