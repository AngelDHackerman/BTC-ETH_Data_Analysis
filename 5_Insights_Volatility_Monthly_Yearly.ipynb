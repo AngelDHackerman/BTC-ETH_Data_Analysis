{
 "cells": [
  {
   "cell_type": "markdown",
   "metadata": {},
   "source": [
    "Insight 2: \"Does Bitcoin exhibits higher volatility compared to the S&P 500, especially in recent years? (Monthy and Yearly)\""
   ]
  },
  {
   "cell_type": "code",
   "execution_count": 12,
   "metadata": {},
   "outputs": [
    {
     "ename": "ModuleNotFoundError",
     "evalue": "No module named 'ace_tools'",
     "output_type": "error",
     "traceback": [
      "\u001b[0;31m---------------------------------------------------------------------------\u001b[0m",
      "\u001b[0;31mModuleNotFoundError\u001b[0m                       Traceback (most recent call last)",
      "Cell \u001b[0;32mIn[12], line 2\u001b[0m\n\u001b[1;32m      1\u001b[0m \u001b[38;5;28;01mimport\u001b[39;00m \u001b[38;5;21;01mpandas\u001b[39;00m \u001b[38;5;28;01mas\u001b[39;00m \u001b[38;5;21;01mpd\u001b[39;00m\n\u001b[0;32m----> 2\u001b[0m \u001b[38;5;28;01mimport\u001b[39;00m \u001b[38;5;21;01mace_tools\u001b[39;00m \u001b[38;5;28;01mas\u001b[39;00m \u001b[38;5;21;01mtools\u001b[39;00m\n\u001b[1;32m      4\u001b[0m btc_data \u001b[38;5;241m=\u001b[39m pd\u001b[38;5;241m.\u001b[39mread_csv(\u001b[38;5;124m'\u001b[39m\u001b[38;5;124m./Data/btc_data_aligned_with_sp500.csv\u001b[39m\u001b[38;5;124m'\u001b[39m, encoding\u001b[38;5;241m=\u001b[39m\u001b[38;5;124m'\u001b[39m\u001b[38;5;124mcp1252\u001b[39m\u001b[38;5;124m'\u001b[39m)\n\u001b[1;32m      5\u001b[0m sp500_data \u001b[38;5;241m=\u001b[39m pd\u001b[38;5;241m.\u001b[39mread_csv(\u001b[38;5;124m'\u001b[39m\u001b[38;5;124m./Data/sp500_data_aligned_with_btc_data.csv\u001b[39m\u001b[38;5;124m'\u001b[39m, encoding\u001b[38;5;241m=\u001b[39m\u001b[38;5;124m'\u001b[39m\u001b[38;5;124mcp1252\u001b[39m\u001b[38;5;124m'\u001b[39m)\n",
      "\u001b[0;31mModuleNotFoundError\u001b[0m: No module named 'ace_tools'"
     ]
    }
   ],
   "source": [
    "import pandas as pd\n",
    "import ace_tools as tools\n",
    "\n",
    "btc_data = pd.read_csv('./Data/btc_data_aligned_with_sp500.csv', encoding='cp1252')\n",
    "sp500_data = pd.read_csv('./Data/sp500_data_aligned_with_btc_data.csv', encoding='cp1252')\n",
    "\n",
    "# Convert the date columns to datetime for proper handling\n",
    "btc_data['Date'] = pd.to_datetime(btc_data['Date'])\n",
    "sp500_data['Date'] = pd.to_datetime(sp500_data['Date'])\n",
    "\n",
    "# Ensure the datsets are aligned by date\n",
    "btc_data = btc_data.set_index('Date').sort_index()\n",
    "sp500_data = sp500_data.set_index('Date').sort_index()\n",
    "\n",
    "# Rename the 'Close' columns for clarity\n",
    "btc_data.rename(columns={\"Close\": \"BTC_Price\"}, inplace=True)\n",
    "sp500_data.rename(columns={\"Close\": \"SP500_Price\"}, inplace=True)"
   ]
  },
  {
   "cell_type": "code",
   "execution_count": null,
   "metadata": {},
   "outputs": [],
   "source": [
    "# Resample data to monthly frequency and calculate standard deviation (volatility)\n",
    "btc_monthly_volatility = btc_data['BTC_Price'].resample('ME').std()\n",
    "sp500_monthly_volatility = sp500_data['SP500_Price'].resample('ME').std()\n",
    "\n",
    "# Calculate annualized standard deviation (volatility)\n",
    "btc_annual_volatility = btc_data['BTC_Price'].resample('YE').std()\n",
    "sp500_annual_volatitliy = sp500_data['SP500_Price'].resample('YE').std()"
   ]
  },
  {
   "cell_type": "code",
   "execution_count": null,
   "metadata": {},
   "outputs": [],
   "source": [
    "# Combine results into a DataFrame for easy comparison\n",
    "volatility_comparasion = pd.DataFrame({\n",
    "  'BTC Monthly Volatility': btc_monthly_volatility,\n",
    "  'S&P 500 Monthly Volatility': sp500_monthly_volatility,\n",
    "  'BTC Annual Volatility': btc_annual_volatility,\n",
    "  'S&P 500 Monthly Volatitliy': sp500_annual_volatitliy\n",
    "}).dropna()"
   ]
  }
 ],
 "metadata": {
  "kernelspec": {
   "display_name": ".venv",
   "language": "python",
   "name": "python3"
  },
  "language_info": {
   "codemirror_mode": {
    "name": "ipython",
    "version": 3
   },
   "file_extension": ".py",
   "mimetype": "text/x-python",
   "name": "python",
   "nbconvert_exporter": "python",
   "pygments_lexer": "ipython3",
   "version": "3.12.7"
  }
 },
 "nbformat": 4,
 "nbformat_minor": 2
}
